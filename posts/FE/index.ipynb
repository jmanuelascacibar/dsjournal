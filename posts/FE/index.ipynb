{
 "cells": [
  {
   "cell_type": "raw",
   "metadata": {
    "vscode": {
     "languageId": "raw"
    }
   },
   "source": [
    "---\n",
    "title: \" Enhancing Predictive Models: A Practical Journey Through Feature Engineering - Part 1\"\n",
    "format: \n",
    "  html:\n",
    "    code-fold: false\n",
    "    toc: true\n",
    "    toc-levels: 4\n",
    "    toc-expand: 4\n",
    "jupyter: python3  \n",
    "author: \"JM Ascacibar\"\n",
    "date: \"2024-06-21\"\n",
    "categories: \n",
    "  - Machine Learning\n",
    "  - Feature Engineering\n",
    "---\n"
   ]
  },
  {
   "cell_type": "markdown",
   "metadata": {},
   "source": [
    "*Notes about Feature Engineering*\n",
    "\n",
    "![](fe_intro.png)"
   ]
  },
  {
   "cell_type": "markdown",
   "metadata": {},
   "source": [
    "# Enhancing Predictive Models: A Practical Journey Through Feature Engineering - Part 1\n",
    "\n",
    "As a Kaggle enthusiast, I have been competing in various competitions for a while now. Throughout this time, I have noticed a recurring pattern: many participants repeatedly use the same techniques without fully understanding the underlying concepts. For instance, if you look at the exploratory data analysis (EDA) in most notebooks, they are almost identical and typically performed only once at the beginning of the process. While everyone acknowledges the importance of feature engineering, most people spend their time ensembling models or combining predictions from different notebooks.\n",
    "\n",
    "I do not want to come across as judgmental because, during my own learning process, I have likely made the same mistakes.\n",
    "\n",
    "The purpose of this notebook, and the ones that will follow, is to provide a clear path for those who wish to deepen their understanding. In doing so, I want to express my gratitude to Max Kuhn and Kjell Johnson for their book, \"Feature Engineering and Selection: A Practical Approach for Predictive Models.\" This book has been an invaluable source of knowledge for me, helping me to understand the intricacies of feature engineering in a way that no other resource has.\n",
    "\n",
    "These notebooks are akin to the class notes I'm taking while reading the book and applying its concepts. All credit goes to the authors for their work.\n",
    "\n",
    "This endeavor has been immensely beneficial for my learning, and I hope it can help you as well."
   ]
  },
  {
   "cell_type": "markdown",
   "metadata": {},
   "source": [
    "## Introduction\n",
    "A wide range of predictions impact our daily lives. From predictive models to asssess the risk of loan defaults analizing borrower's history, income, and spending patterns. \n",
    "\n",
    "Doctors use predictive models to determine the likelihood that patients might develop certain conditions, such as predicting the risk of heart disease based on patient history and lifestyle factors.\n",
    "\n",
    "Sports analysts use statistical models to predict player performance and game outcomes. By examining player statistics, game conditions, and historical performance, these models can forecast future performance, helping coaches make strategic decisions and fans place informed bets.\n",
    "\n",
    "Lawyers employ statistical models to assess the likelihood of potential hiring biases in organizations, determining whether the observed hiring patterns are due to chance or indicative of a systematic problem. For instance, they might analyze how much more likely certain groups are to be hired compared to others.\n",
    "\n",
    "### Importance of Statistical Model\n",
    "\n",
    "Models are created by taking existing data and finding a mathematical representation that fits the data.\n",
    "\n",
    "The prediction of a particular value like the price of a house, the likelihood of a patient developing a disease, or the outcome of a sports game, reflects an estimate of the underlying relationship between the input variables and the output variable, where the goal is not understand the relationship perse, but to make accurate predictions.\n",
    "\n",
    "In the hiring bias example, the model is thought to be inferential. The goal is to understand the state of the nature. \n",
    "\n",
    "As this distinction can be a bit blurry, let's consider the following example: \n",
    "\n",
    "Imagine you are studying a company’s hiring practices and find that women are hired at a 5% lower rate than men. This 5% difference is your hiring bias estimate.\n",
    "\n",
    "You calculate the estimated uncertainty (noise) in your data and find that the standard deviation is 1%. Standard deviation represents the variability or dispersion of the data points around the mean, which can be interpreted as the noise.\n",
    "\n",
    "If the 5% hiring bias is compared to the 1% noise, it becomes apparent that the bias is much larger than the noise.\n",
    "\n",
    "You might perform a statistical test to determine the likelihood that the observed 5% difference is due to random noise.\n",
    "\n",
    "Formulate Hypotheses:\n",
    "\n",
    "$H_0$: There is no hiring bias (the difference in hiring rates between groups is due to random chance.\n",
    "\n",
    "$H_1$: There is a hiring bias (the difference in hiring rates between groups is not due to random chance).\n",
    "\n",
    "Select a Statistical Test:\n",
    "\n",
    "If you are comparing the means of two independent groups (e.g., hiring rates for men and women), a two-sample t-test is appropriate.\n",
    "\n",
    "The test statistic for a two-sample t-test can be calculated using the formula\n",
    "$$t = \\frac{\\bar{X}_1 - \\bar{X}_2}{\\sqrt{\\frac{s_1^2}{n_1} + \\frac{s_2^2}{n_2}}}$$\n",
    "\n",
    "where:\n",
    "- $\\bar{X}_1$ and $\\bar{X}_2$ are the sample means of the two groups.\n",
    "- $s_1^2$ and $s_2^2$ are the sample variances of the two groups.\n",
    "- $n_1$ and $n_2$ are the sample sizes of the two groups.\n",
    "\n",
    "Using the calculated test statistic and the degrees of freedom, the p-value is found from the t-distribution.\n",
    "\n",
    "The p-value is the probability of observing a test statistic at least as extreme as the one observed given that the null hypothesis is true. If the p-value is less than the chosen significance level (commonly 𝛼=0.05), you reject the null hypothesis.\n",
    "\n",
    "Let's have fun with the following example:\n",
    "\n",
    "- Sample size for men ($n_1$) = 100\n",
    "\n",
    "- Sample size for women ($n_2$) = 100\n",
    "\n",
    "- Hiring rate for men ($\\bar{X}_1$) = 0.5\n",
    "\n",
    "- Hiring rate for women ($\\bar{X}_2$) = 0.45\n",
    "\n",
    "- Standard deviation for men ($s_1$) = 0.05\n",
    "\n",
    "- Standard deviation for women ($s_2$) = 0.05\n",
    "\n",
    "Calculate the test statistic and p-value for the two-sample t-test."
   ]
  },
  {
   "cell_type": "code",
   "execution_count": 1,
   "metadata": {},
   "outputs": [],
   "source": [
    "import math\n",
    "from scipy.stats import t\n",
    "\n",
    "# Given data\n",
    "n1 = 100\n",
    "n2 = 100\n",
    "X1 = 0.50\n",
    "X2 = 0.45\n",
    "s1 = 0.05\n",
    "s2 = 0.05"
   ]
  },
  {
   "cell_type": "code",
   "execution_count": 2,
   "metadata": {},
   "outputs": [
    {
     "name": "stdout",
     "output_type": "stream",
     "text": [
      "t-statistic: 7.071067811865473\n"
     ]
    }
   ],
   "source": [
    "# Calculate the t-statistic\n",
    "numerator = X1 - X2\n",
    "denominator = math.sqrt((s1**2 / n1) + (s2**2 / n2))\n",
    "t_stat = numerator / denominator\n",
    "print(f't-statistic: {t_stat}')"
   ]
  },
  {
   "cell_type": "markdown",
   "metadata": {},
   "source": [
    "Degrees of freedom (df) refer to the number of independent values or quantities that can vary in the analysis without breaking any constraints. It represent the number of values in the final calculation of a statistic that are free to vary. We can also say that the degrees of freedom quantify the number of independent pieces of information available to estimate another piece of information.\n",
    "\n",
    "When calculating the mean of a sample, $n$ values are involved. However, once the mean is known, only \n",
    "$n-1$ of those values can vary freely. Similarly, when calculating the sample variance, the mean is already calculated from the sample. The degrees of freedom are $n-1$ because the calculation of variance depends on $n$ data points, but only $n-1$ of them are free to vary."
   ]
  },
  {
   "cell_type": "code",
   "execution_count": 3,
   "metadata": {},
   "outputs": [
    {
     "name": "stdout",
     "output_type": "stream",
     "text": [
      "Degrees of freedom: 198.0\n"
     ]
    }
   ],
   "source": [
    "\n",
    "# Calculate the degrees of freedom\n",
    "df_numerator = ((s1**2 / n1) + (s2**2 / n2))**2\n",
    "df_denominator = ((s1**2 / n1)**2 / (n1 - 1)) + ((s2**2 / n2)**2 / (n2 - 1))\n",
    "df = df_numerator / df_denominator\n",
    "print(f'Degrees of freedom: {df}')"
   ]
  },
  {
   "cell_type": "markdown",
   "metadata": {},
   "source": [
    "The calculation `p_value = t.sf(abs(t_stat), df) * 2` is used to obtain the p-value for a two-tailed t-test.\n",
    "One-Tailed Test is used when the research hypothesis specifies a direction of the effect (e.g., Group A is greater than Group B). Two-Tailed Test is used when the research hypothesis does not specify a direction; it simply states that there is a difference (e.g., Group A is different from Group B)."
   ]
  },
  {
   "cell_type": "code",
   "execution_count": 4,
   "metadata": {},
   "outputs": [
    {
     "name": "stdout",
     "output_type": "stream",
     "text": [
      "t-statistic: 7.0711\n",
      "Degrees of freedom: 198.0000\n",
      "p-value: 0.0000\n"
     ]
    }
   ],
   "source": [
    "# Calculate the p-value\n",
    "p_value = t.sf(abs(t_stat), df) * 2  # two-tailed p-value\n",
    "\n",
    "print(f\"t-statistic: {t_stat:.4f}\")\n",
    "print(f\"Degrees of freedom: {df:.4f}\")\n",
    "print(f\"p-value: {p_value:.4f}\")"
   ]
  },
  {
   "cell_type": "markdown",
   "metadata": {},
   "source": [
    "Since the p-value is less than 0.05, you reject the null hypothesis and conclude that the 5% difference in hiring rates is statistically significant and not likely due to random noise"
   ]
  },
  {
   "cell_type": "markdown",
   "metadata": {},
   "source": [
    "It is possible to calculate the t-statistic directly using the scipy.stats library in Python. The scipy.stats.ttest_ind function can be used to perform a two-sample t-test, which will calculate the t-statistic and the p-value for you."
   ]
  },
  {
   "cell_type": "code",
   "execution_count": 5,
   "metadata": {},
   "outputs": [
    {
     "name": "stdout",
     "output_type": "stream",
     "text": [
      "t-statistic: 6.7355\n",
      "p-value: 0.0000\n"
     ]
    }
   ],
   "source": [
    "import numpy as np\n",
    "from scipy.stats import ttest_ind\n",
    "\n",
    "# Generate sample data\n",
    "np.random.seed(0)  # for reproducibility\n",
    "sample1 = np.random.normal(loc=X1, scale=s1, size=n1)\n",
    "sample2 = np.random.normal(loc=X2, scale=s2, size=n2)\n",
    "\n",
    "# Perform the t-test\n",
    "t_stat, p_value = ttest_ind(sample1, sample2)\n",
    "\n",
    "# Print the results\n",
    "print(f\"t-statistic: {t_stat:.4f}\")\n",
    "print(f\"p-value: {p_value:.4f}\")"
   ]
  },
  {
   "cell_type": "markdown",
   "metadata": {},
   "source": [
    "The slight differences in the results arise because the earlier example involved calculating the t-statistic using theoretical means, standard deviations, and sample sizes, while the scipy.stats.ttest_ind function was used with generated sample data in the latter example. When generating sample data, there is inherent randomness that can lead to variations in the results.\n",
    "\n"
   ]
  },
  {
   "cell_type": "markdown",
   "metadata": {},
   "source": [
    "As we can observe, we are trying to understand the nature of the problem, the significance of the hiring bias following the inferential approach.\n",
    "\n",
    "This is not a petty distinction, as later on we will see the use of inferential approach in the context of predictions to help us to indentify features. \n",
    "\n",
    "### Feature Engineering - Ways to represent predictors in a model\n",
    "\n",
    "Now imagine you are a real estate agent and you want to have a software that can predict the price of a house based on a set of characteristic from a dataset that your company has been collecting for years. This dataset could be the Ames Housing dataset, which contains information about houses in Ames, Iowa. In our experience, we know that location is likely to be an important predictor of house price. The question that arises is which representation of location should we use in our model? One way to represent location is to use the 28 neighborhoods in Ames as predictors. A second way is to use the latitude and longitude. We also know that properties in better school districts tend to have higher prices. As proxy for school district, we can use the zip code areas as many school districts fall largely within specific zip code areas. \n",
    "\n",
    "As we can see, the choice of representation of predictors in a model is a crucial step in the model building process. The choice of representation can have a significant impact on the model's performance. Obviously, if the predictor has no relatioship with the outcome then its representation is irrelevant.\n",
    "\n",
    "Be aware that there are multiple types of models, each with its own sensitivities and requirements. \n",
    "For example:\n",
    "- Multicollinearity: Some models cannot tolerate predictors that measure the same underlying quantity (i.e., multicollinearity).\n",
    "- Missing Values: Some models cannot handle samples with missing values.\n",
    "- Irrelevant Predictors: Some models are severely affected by the presence of irrelevant predictors, which can degrade their performance.\n",
    "\n"
   ]
  },
  {
   "cell_type": "markdown",
   "metadata": {},
   "source": [
    "## Important Concepts\n",
    "\n",
    "There are some important theorical and practical concepts about machine learning that we need to understand.\n",
    "\n",
    "### Overfitting\n",
    "\n",
    "Overfitting occurs when a model fits the current data very well but performs poorly on new, unseen data. This happens because the model has learned not only the underlying patterns but also the random noise present in the training data.\n",
    "\n",
    "Highly flexible models, often referred to as \"low-bias models,\" are particularly prone to overfitting. These models can adapt closely to the training data, capturing both true patterns and noise.\n",
    "\n",
    "Overfitting can also occur during feature selection. A variable might seem important in the current dataset but show no real relationship with the outcome in new data. This misleading relevance is a form of overfitting.\n",
    "\n",
    "The risk of overfitting is especially high when the number of data points (n) is small and the number of potential predictors (p) is very large. This situation creates excessive flexibility in the model, allowing it to fit the training data too closely and detect \"apparent\" patterns that are actually random variations specific to the training data.\n",
    "\n",
    "#### Supervised and Unsupervised Procedures - Overfitting and Self-fulfilling Predictive Prophecy\n",
    "\n",
    "Predictive models are strictly supervised because they focus directly on finding relationships between predictors and the outcome. In contrast, unsupervised analyses include methods such as cluster analysis and principal component analysis, which are used to discover patterns in data without specific outcome variables.\n",
    "\n",
    "Both supervised and unsupervised analyses can suffer from overfitting. However, supervised analyses are particularly prone to overfitting because they aim to predict specific outcomes. This can lead to a self-fulfilling predictive prophecy, where the analysis confirms the patterns it was set up to find, but these patterns may not hold true for new data.\n",
    "\n",
    "Suppose an analyst uses a dataset of student grades to identify predictors of high performance, such as study hours and attendance. He finds significant associations between these predictors and high grades. The analyst also creates a heatmap using the same dataset to visualize the relationship between study hours, attendance, and grades. The heatmap shows a strong correlation, suggesting that these predictors are very important.\n",
    "\n",
    "The risk of overfitting is quite high. While the visualization looks impressive, the strong correlation might only be valid for this particular dataset. If the model is applied to a new set of students, it might not show the same strong relationship, indicating that the model has overfitted the original data.\n",
    "\n",
    "### The “No Free Lunch” Theorem\n",
    "\n",
    "The “No Free Lunch” Theorem (Wolpert, 1996) states that without specific knowledge of the problem or data, no single predictive model can be considered universally the best.\n",
    "\n",
    "Many models are designed to perform well with certain data characteristics, such as handling missing values or managing collinear predictors. While it might seem logical to assume that these specialized models would outperform others in their respective areas, real-world scenarios are more complex.\n",
    "\n",
    "Predicting the best model without examining the actual data is challenging. Therefore, the best approach is to test a variety of models to determine which one works best for your specific dataset.\n",
    "\n",
    "### Developing an Effective Model: Iterative and Heuristic Process\n",
    "\n",
    "The development of an effective model is both iterative and heuristic in nature.\n",
    "\n",
    "Developing an effective model involves repeating cycles of testing, evaluating, and refining. This means you build a model, test it, learn from the results, and then make improvements. This cycle is repeated multiple times until you achieve a satisfactory model.\n",
    "\n",
    "A heuristic approach uses practical methods and experiential knowledge to guide model development. Heuristics are rules of thumb or educated guesses that help simplify the problem-solving process. While these methods might not guarantee an optimal solution, they are effective in finding good-enough solutions within a reasonable timeframe. \n",
    "\n",
    "It is difficult to know the specific needs of any dataset prior to working with it. Therefore, it is common to evaluate and modify many approaches before finalizing a model.\n",
    "\n",
    "#### Workflow\n",
    "\n",
    "![](timeline.png)\n",
    "\n",
    "##### Exploratory Data Analysis \n",
    "\n",
    "The initial activity starts with exploratory data analysis (EDA) to investigate the data (a).\n",
    "This involves evaluating simple summary measures and identifying predictors with strong correlations to the outcome. The process iterates between visualization and analysis until the modeler has a thorough understanding of the data.\n",
    "\n",
    "##### Early Data Analysis\n",
    "\n",
    "Following EDA, early data analysis takes place (b). This phase includes more detailed evaluations, such as summary statistics and correlations. The goal is to identify key predictors and gain deeper insights into the dataset.\n",
    "\n",
    "##### Drafting Predictors\n",
    "\n",
    "Based on the insights from previous analyses, the first draft of how predictors will be represented in the models is created (c). This draft serves as the initial feature set for model evaluation.\n",
    "\n",
    "##### Model Evaluation and Hyperparameter Tuning \n",
    "\n",
    "Multiple modeling methods are evaluated using the initial feature set (d). Many models have hyperparameters that need tuning. At this stage, four distinct models are evaluated multiple times over a set of candidate hyperparameter values.\n",
    "\n",
    "##### Numerical Evaluation\n",
    "\n",
    "Once the models have been tuned, they are numerically evaluated to understand their performance characteristics (e). Summary measures, such as model accuracy, are used to determine which models best suit the data.\n",
    "\n",
    "##### Further EDA and Residual Analysis\n",
    "\n",
    "Additional EDA is conducted on the model results, such as residual analysis (f). For example, in predicting house prices, properties that are poorly predicted are examined to identify any systematic issues. Specific areas, like certain ZIP codes, might be challenging to assess accurately.\n",
    "\n",
    "##### Second Round of Feature Engineering\n",
    "\n",
    "Another round of feature engineering is performed to address identified obstacles and improve model performance (g). This step involves refining and enhancing the predictor set based on the insights gained from residual analysis.\n",
    "\n",
    "##### Model Tuning on Selected Models\n",
    "\n",
    "By this point, the most promising models have been identified (h). A more extensive round of model tuning is conducted on these selected models to optimize their performance further.\n",
    "\n",
    "##### Final Model Selection\n",
    "\n",
    "After tuning and modifying predictor representations, the two candidate models (Model #2 and Model #4) are finalized. These models are evaluated on an external test set in a final “bake off” to determine which performs best (i). The final model is then chosen and will be used for future predictions or inferences (j).\n",
    "\n",
    "### Model Bias and Variance\n",
    "\n",
    "Understanding bias and variance is crucial for developing effective models. \n",
    "\n",
    "Variance refers to the degree to which data values fluctuate. In models, high variance indicates that small changes in the data can cause large changes in model parameters or structure.\n",
    "\n",
    "Examples of Low Variance Models are linear regression, logistic regression, and partial least squares. These models are less sensitive to changes in the training data and are more stable. \n",
    "\n",
    "Examples of High Variance Models are  trees, nearest neighbor models, and neural networks. These models are more sensitive to changes in the training data and can be less stable because they rely heavily on individual data points.\n",
    "\n",
    "Bias is the degree to which a model's predictions deviate from the true underlying values. A model with high bias makes assumptions that may oversimplify the data and miss important patterns.\n",
    "For example, a biased poll could incorrectly estimate public opinion if it over-represents a particular demographic.\n",
    "\n",
    "Low-Bias Models are flexible models that can fit a variety of patterns, such as tree-based models, support vector machines, and neural networks. Its counterpart, high-bias Models, often simpler models, may not capture complex patterns, like in the case of basic linear methods.\n",
    "\n",
    "Models often have parameters that control their flexibility, affecting both bias and variance. In a moving average model, estimates are based on a window of data points. A small window is responsive (low bias, high variance), while a large window is smoother (high bias, low variance).\n",
    "\n",
    "#### Achieving Low Bias and Low Variance\n",
    "\n",
    "Start with a Low-Variance Model, a simple model like logistic regression, which has low variance but might have high bias. Then modify predictor variables to better represent the underlying data. This can include creating interaction terms, polynomial features, or other transformations to capture true relationships. Effective feature engineering can help a simple model like logistic regression perform comparably to a complex model by reducing bias. Uses feature selection techniques to improve models by reducing the noise from extra variables. Excess model variation can be caused by irrelevant predictors.\n",
    "\n",
    "The goal is to achieve a model with both low bias and low variance. By understanding and managing bias and variance, you can develop models that generalize well to new data and provide reliable predictions.\n",
    "\n",
    "### Experience-Driven vs. Empirically-Driven Modeling\n",
    "\n",
    "There is often a conflict between experience-driven modeling and empirically-driven modeling, each with its own advantages and disadvantages.\n",
    "\n",
    "Experience-Driven Modeling is based on experts that have a good sense of what features should be included in the model based on their previous experience. Their insights allow them to prescribe specific variables and representations. The expertise of these professionals should be strongly considered in the modeling process due to their deep understanding of the domain. However, because models estimate parameters from the data, there can be a strong inclination to rely on data-driven approaches rather than solely on expert opinion. Many models can empirically determine which predictors should be included. This approach relies heavily on the data to inform decisions. The risks of this approach include overfitting to false patterns, capturing noise instead of genuine relationships. Also, empirically-driven models can become highly complex and may lack intuitive explanations, making them harder to interpret and justify.\n",
    "\n",
    "The key is to strike a balance between both approaches. An empirical modeler can benefit from an expert's recommendations to narrow down a large number of predictors or prioritize them in the modeling process. The process of feature engineering, which involves creating meaningful predictor variables, often requires domain expertise to ensure that the engineered features are relevant and informative.\n",
    "\n",
    "### Big Data\n",
    "\n",
    "Big Data refers to a large number of data points (as opposed to variables). However, the effective sample size might be smaller than the actual data size due to various factors.\n",
    "\n",
    "The effective sample size is the number of observations that effectively contribute to the estimation of model parameters. It might be smaller than the actual data size in cases such as:\n",
    "\n",
    "* Class Imbalance: When there is a severe imbalance or rare event rate, the number of useful events in the data is small.\n",
    "\n",
    "* Abundant Sampling in One Region: When a dataset has billions of records but most correspond to a specific demographic (e.g., white males within a certain age range), the diversity is low, resulting in a low number of distinct samples.\n",
    "\n",
    "\n",
    "Examples: \n",
    "\n",
    "In click-through rate prediction, out of 1,000,000 ad impressions, if only 1,000 result in clicks, the effective sample size for modeling click behavior is much smaller than the actual data size.\n",
    "\n",
    "Additionally, another situation where large datasets probably doesn't help is when samples are added\n",
    "within the mainstream of the data. Adding more samples within the well-represented part of the data (mainstream) increases the granularity without adding new information. This refers to the level of detail or precision in data representation. More data points in already well-covered areas do not necessarily enhance the analysis.\n",
    "\n",
    "We can conclude that simply having a large volume of data does not improve analysis unless it addresses specific needs or problems. More data cannot create a meaningful relationship between variables if none exists. For example, collecting more data on shoe size and reading ability won't reveal a meaningful relationship if they aren't inherently related.\n",
    "\n",
    "There're also computational challenges related to big data. The use of high-variance/low-bias models like deep neural networks and random forests are computationally intensive. As data size increases, the time and resources required for training also increase, often in a nonlinear fashion. Also, handling large datasets often requires specialized computational techniques and infrastructure.\n",
    "\n",
    "Ideally, the choice of model should be driven by the nature of the problem, not by the limitations of the computational resources.\n",
    "\n",
    "Additionally, not all models can exploit large data volumes. For models like linear regression, big data tends to reduce the standard errors of parameter estimates but may not significantly improve the estimates themselves. However, there are models that can effectively leverage large data sets. Some models are designed to effectively use large amounts of data, even when some data lacks labels (unlabeled data).\n",
    "\n",
    "#### Takeaways from Big Data\n",
    "\n",
    "1. Simply having a large amount of data is not valuable unless it addresses a specific need or problem.\n",
    "2. Consider if the sheer volume of data introduces practical challenges in storage, processing, and analysis.\n",
    "3. There is almost never a single model fit or feature set that will immediately solve the problem. The process involves trial and error to achieve the best results.\n",
    "4. The effect of feature sets can be much larger than the effect of different models. The interplay between models and features is complex and somewhat unpredictable.\n",
    "\n",
    "\n",
    "## Feature Selection\n",
    "\n",
    "As we've already seen, feature selection is a critical step in improving the performance of a model by identifying and using the most relevant features.\n",
    "\n",
    "The correct approach through feature engineering is by creating features in stages. For example, you might start with basic features like age and income, then add more complex features such as age squared or income-to-debt ratio.\n",
    "\n",
    "After each set of new features is added, the model is evaluated using resampling techniques (cross-validation) to ensure robustness and avoid reliance on a single train-test split.\n",
    "\n",
    "When features are not pre-screened for statistical significance, there's a risk that some of the added features might fit the noise in the training data rather than true patterns. Techniques like forward selection, backward elimination, and various statistical tests (e.g., t-tests, chi-square tests) are used to evaluate the importance of each feature.\n",
    "\n",
    "There are different strategies for supervised feature selection. We can classify them by how subsets of features are derived:\n",
    "\n",
    "* Wrapper Methods: These use an external search procedure to choose different subsets of the whole predictor set for model evaluation. Examples include backward selection, stepwise selection, and genetic algorithms.\n",
    "\n",
    "* Embedded Methods: Feature selection occurs naturally during model fitting. For example, in a decision tree, variables are selected during splits, and those not used are effectively excluded.\n",
    "\n",
    "The risk of overfitting is particularly high when wrapper methods are used, especially if the number of data points is small relative to the number of predictors.\n",
    "\n",
    "Unsupervised selection methods can significantly improve model performance. \n",
    "\n",
    "Notice that when searching for a subset of variables, there may not be a unique set that produces the best performance. Often, when an important variable is removed, the model compensates by adjusting the remaining variables. This is especially true when there is correlation between explanatory variables or when using low-bias models. for this reason, feature selection should not be used as a formal method for determining feature significance. Traditional inferential statistical approaches are better for assessing the contribution of a predictor to the underlying model or dataset."
   ]
  },
  {
   "cell_type": "markdown",
   "metadata": {},
   "source": []
  }
 ],
 "metadata": {
  "kernelspec": {
   "display_name": "ds",
   "language": "python",
   "name": "python3"
  },
  "language_info": {
   "codemirror_mode": {
    "name": "ipython",
    "version": 3
   },
   "file_extension": ".py",
   "mimetype": "text/x-python",
   "name": "python",
   "nbconvert_exporter": "python",
   "pygments_lexer": "ipython3",
   "version": "3.1.-1"
  }
 },
 "nbformat": 4,
 "nbformat_minor": 2
}
