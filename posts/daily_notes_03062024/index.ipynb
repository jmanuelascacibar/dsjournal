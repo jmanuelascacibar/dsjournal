{
 "cells": [
  {
   "cell_type": "raw",
   "metadata": {
    "vscode": {
     "languageId": "raw"
    }
   },
   "source": [
    "---\n",
    "title: \"Daily Note - 03-06-2024\"\n",
    "format: \n",
    "  html:\n",
    "    code-fold: false\n",
    "    toc: true\n",
    "    toc-levels: 4\n",
    "    toc-expand: 4\n",
    "jupyter: python3  \n",
    "author: \"JM Ascacibar\"\n",
    "date: \"2024-06-03\"\n",
    "categories: \n",
    "  - ucimlrepo\n",
    "  - kernel machines\n",
    "  - matplotlib\n",
    "  - vizualizations\n",
    "  - imbalance classes\n",
    "---"
   ]
  },
  {
   "cell_type": "markdown",
   "metadata": {},
   "source": [
    "*UCIML datasets from their API, Kernel machines, Barplot with percentages annotations, pie charts, Imbalance ratio*\n",
    "\n",
    "![](designer.jpeg)"
   ]
  },
  {
   "cell_type": "markdown",
   "metadata": {
    "vscode": {
     "languageId": "raw"
    }
   },
   "source": [
    "# Daily Note - 03/06/2024\n",
    "\n",
    "## 1. Downloading UCIML datasets from their API\n",
    "\n",
    "```python\n",
    "!pip3 install -U ucimlrepo \n",
    "```\n",
    "\n",
    "Documentation about the API [here](https://github.com/uci-ml-repo/ucimlrepo)\n",
    "\n",
    "\n",
    "## 2. Barplot with percentages annotations\n",
    "\n",
    "A barplot with percentages annotations can be very useful to show the distribution of a categorical variable. \n",
    "\n",
    "An easy way to do this is using pandas and matplotlib. \n",
    "\n",
    "The first thing is to create a `fig`, `ax` object with matplotlib and specify the number of subplots that we are going to use.\n",
    "\n",
    "```python\n",
    "fig, ax = plt.subplots(1, 2, figsize=(12, 6))\n",
    "```\n",
    "\n",
    "Then, we can use the `value_counts` method from pandas to get the counts of each category in the variable. \n",
    "\n",
    "```python\n",
    "yo.value_counts(normalize=True).plot(kind='barh', ax=ax[0])\n",
    "```\n",
    "\n",
    "Because we are ploting two plots we are going to do the same with the other one.\n",
    "```python\n",
    "df.Target.value_counts(normalize=True).plot(kind='barh', ax=ax[1])\n",
    "``` \n",
    "\n",
    "We can use the `set_title` method from matplotlib to add a title to each plot\n",
    "\n",
    "```python\n",
    "ax[0].set_title('Original Dataset')\n",
    "ax[1].set_title('Train Dataset')\n",
    "```\n",
    "\n",
    "Here is the most oscure part of the code. First we need to iterate through the axes by `for axis in ax`. This line iterates over the axes in the `ax` array. `ax` is an array of the axes object created by `plt.subplots`. So contains the two axes that we created, `ax[0]` and `ax[1]`. After this we need to iterate through the patches of the barplot. Each bar in the bar plot is represented as a patch in matplotlib. `axis.patches` contains all the bars in the current axis. \n",
    "\n",
    "```python\n",
    "for axis in ax:\n",
    "    for p in axis.patches:\n",
    "```\n",
    "To calculate the percentages, we can retrieves the width of the bar, which corresponds to the normalized value using `p.get_width()`. `f'{p.get_width() * 100:.2f}%'` creates a formatted string representing the percentage with a '%' symbol.\n",
    "`perc = f'{p.get_width() * 100:.2f}%'`\n",
    "\n",
    "In order to add the percentage to the bar, we can use `axis.annotate` method. This method adds an annotation to the plot. `(p.get_width(), p.get_y() + p.get_height() / 2)` sets the position of the annotation. `p.get_width()` is the x-coordinate of the annotation, placing it at the end of the bar. `p.get_y() + p.get_height() / 2` is the y-coordinate of the annotation, centering it vertically within the bar. `ha='left'` sets the horizontal alignment to the left.\n",
    "`va='center'` sets the vertical alignment to the center. `xytext=(-50, 0)` specifies an offset for the text position (moving the text 50 points to the left of the bar). `textcoords='offset points'` tells annotate to interpret the xytext offset as being measured in points from the (x, y) position.\n",
    "\n",
    "```python\n",
    "        axis.annotate(perc, (p.get_width(), p.get_y() + p.get_height() / 2),\n",
    "                       ha='left', va='center', xytext=(-50, 0), textcoords='offset points')\n",
    "```\n",
    "\n",
    "The final code is:\n",
    "\n",
    "```python\n",
    "fig, ax = plt.subplots(1, 2, figsize=(14, 6))\n",
    "yo.value_counts(normalize=True).plot(kind='barh', ax=ax[0], color='skyblue')\n",
    "ax[0].set_title('Original Dataset')\n",
    "df.Target.value_counts(normalize=True).plot(kind='barh', ax=ax[1], color='skyblue')\n",
    "ax[1].set_title('Train Dataset')\n",
    "for axis in ax:\n",
    "    for p in axis.patches:\n",
    "        perc = f'{p.get_width() * 100:.2f}%'\n",
    "        axis.annotate(perc, (p.get_width(), p.get_y() + p.get_height() / 2), ha='left', va='center', xytext=(-50, 0), textcoords='offset points')\n",
    "plt.tight_layout()\n",
    "plt.show()\n",
    "```\n",
    "\n",
    "![](target_distribution.png)\n",
    " \n",
    "\n",
    " ## 3. Don't use pie charts\n",
    "\n",
    " The main issue is that humans are generally not good at accurately estimating areas and angles. In a 2D pie chart, the sie of each slice is determined by the angle and the area it occupies, which can be hard to compare precisely. A bar chart represent data with the length of the bars along a common baseline, which makes it easier to compare the values. This linear representation (lenght of bars) is more intuitive and allows for more accurate visual comparisons than the angular or area-based representations of a pie chart.\n",
    "\n",
    "\n",
    "## 4. Imbalance ratio\n",
    "\n",
    "To assess the imbalance more precisely, one common approach is to calculate the imbalance ratio. This ratio can be computed as the number of instances of the majority class divided by the number of instances of the minority class.\n",
    "Generally, an imbalance ratio of less than 5:1 is considered mild to moderate, while ratios greater than 10:1 are considered severe.\n",
    "\n"
   ]
  },
  {
   "cell_type": "markdown",
   "metadata": {},
   "source": []
  }
 ],
 "metadata": {
  "kernelspec": {
   "display_name": "base",
   "language": "python",
   "name": "python3"
  },
  "language_info": {
   "codemirror_mode": {
    "name": "ipython",
    "version": 3
   },
   "file_extension": ".py",
   "mimetype": "text/x-python",
   "name": "python",
   "nbconvert_exporter": "python",
   "pygments_lexer": "ipython3",
   "version": "3.10.14"
  }
 },
 "nbformat": 4,
 "nbformat_minor": 2
}
