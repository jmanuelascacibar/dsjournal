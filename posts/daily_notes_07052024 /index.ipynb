{
 "cells": [
  {
   "cell_type": "raw",
   "metadata": {
    "vscode": {
     "languageId": "raw"
    }
   },
   "source": [
    "---\n",
    "title: \"Daily Note - 07-05-2024\"\n",
    "format: \n",
    "  html:\n",
    "    code-fold: true\n",
    "    toc: true\n",
    "    toc-levels: 4\n",
    "    toc-expand: 4\n",
    "    \n",
    "author: \"JM Ascacibar\"\n",
    "date: \"2024-05-07\"\n",
    "categories: \n",
    "  - Kaggle Environment\n",
    "  - pip\n",
    "  - PCA\n",
    "  - pickle\n",
    "  - python\n",
    "  - latex\n",
    "  - pandas\n",
    "\n",
    "---"
   ]
  },
  {
   "cell_type": "markdown",
   "metadata": {},
   "source": [
    "*Using Path, pip install in kaggle, PCA resources, save/load data pickle files, Remove space in streams, `\\mathrm` in latex, pandas warnings* \n",
    "\n",
    "![](designer.jpeg)"
   ]
  },
  {
   "cell_type": "markdown",
   "metadata": {
    "vscode": {
     "languageId": "raw"
    }
   },
   "source": [
    "# Working plan for the next weeks\n",
    "- [ ] Coefficient of determination, $R^2$\n",
    "- [ ] Flood Competition. Modelling the data and making predictions\n",
    "- [ ] AMEX competition\n",
    "- [ ] Concrete competition. Modelling the data and making predictions\n",
    "- [ ] Shapley \n",
    "- [ ] Inference and prediction\n",
    "- [ ] PCA\n",
    "- [ ] Target Transformations\n",
    "- [ ] Richard Dawking explanation of FP and FN\n",
    "- [ ] Finish Quarto blog\n",
    "\n",
    "# Daily Note - 07/05/2024\n",
    "\n",
    "#### 1. Using Path from pathlib:\n",
    "\n",
    "I was basically trying to set up an if statement that allows the notebook to identify whether is running on Kaggle or locally. \n",
    "\n",
    "My error was to concatenate a the `path` variable with the filename using the `/` operator. \n",
    "\n",
    "I was able to fix this by using the `pathlib` library and the `Path` object. \n",
    "\n",
    "```python\n",
    "if 'KAGGLE_KERNEL_RUN_TYPE' in os.environ:\n",
    "    print('Running in Kaggle')\n",
    "    path = Path(\"/kaggle/input/playground-series-s4e5\")\n",
    "    org_path = Path(\"/kaggle/input/flood-prediction-factors\")\n",
    "else: \n",
    "    print(\"Running Locally\")\n",
    "    path = Path(\".\")\n",
    "    org_path = Path(\".\")\n",
    "# Data\n",
    "train = pd.read_csv(path/\"train.csv\", index_col='id')\n",
    "test = pd.read_csv(path/\"test.csv\", index_col='id')\n",
    "data = pd.concat([train, test], axis=0)\n",
    "original = pd.read_csv(org_path/\"flood.csv\")\n",
    "tr_ext = pd.concat([train, original], axis=0)\n",
    "# Target variable\n",
    "TARGET = \"FloodProbability\"\n",
    "# Initial Features\n",
    "init_feat = list(test.columns)\n",
    "```\n",
    "\n",
    "#### 2. PIP in Kaggle\n",
    "\n",
    "Sometimes you need to install a package that is not available in the Kaggle environment. In order to do that, you can use the `!pip install` command.\n",
    "If you need to update a package, you can use the `!pip install --upgrade` command. Using the flag `-q` will make the installation process quiet, which means that it will not display the output of the installation process.\n",
    "\n",
    "#### 3. Save data into a pickle file\n",
    "\n",
    "We import the pickle module. We define separate filenames for the pickle files. We use two separate with statements to open and save each dictionary to its respective pickle file. We use pickle.dump() to serialize and write each dictionary to its corresponding file. We use pickle.load() to read and deserialize each dictionary from its corresponding file. We print the contents of each dictionary to verify that the data was saved and loaded correctly.\n",
    "\n",
    "```python\n",
    "oof_filename = 'oof_pred.pkl'\n",
    "tst_pred_filename = 'tst_pred.pkl'\n",
    "with open(oof_filename, 'wb') as oof_file:\n",
    "    pickle.dump(oof, oof_file)\n",
    "with open(tst_pred_filename, 'wb') as tst_pred_file:\n",
    "    pickle.dump(tst_pred, tst_pred_file)\n",
    "print(\"OOF predictions saved to:\", oof_filename)\n",
    "print(\"Test predictions saved to:\", tst_pred_filename)\n",
    "```\n",
    "\n",
    "```python\t\n",
    "with open(oof_filename, 'rb') as oof_file:\n",
    "    oof = pickle.load(oof_file)\n",
    "with open(tst_pred_filename, 'rb') as tst_pred_file:\n",
    "    tst_pred = pickle.load(tst_pred_file)\n",
    "```\n",
    "\n",
    "#### 4. Remove space in the name of a feature\n",
    "The strip() method is used to remove leading and trailing spaces from a string. In this case, since there is only one trailing space, it will be effectively removed\n",
    "\n",
    "```python\n",
    "original.columns = original.columns.str.strip()\n",
    "```\n",
    "\n",
    "#### 5. Using `\\mathrm` in latex\n",
    "\n",
    "In LaTeX, ``\\mathrm`` is used to typeset a mathematical expression in roman (upright) font, rather than the default italic font used for math.\n",
    "\n",
    "$$RMSE = \\sqrt{\\frac{1}{n} \\sum_{i=1}^{n} (y_i - \\hat{y}_i)^2}$$\n",
    "\n",
    "#### 6. Pandas warnings\n",
    "\n",
    "You can suppress the warning by adding the following code at the top of your notebook.\n",
    "\n",
    "```python\t\n",
    "import warnings\n",
    "warnings.filterwarnings(\"ignore\", category=FutureWarning)\n",
    "```\n",
    "\n"
   ]
  },
  {
   "cell_type": "markdown",
   "metadata": {},
   "source": [
    "# Findings and resources:\n",
    "\n",
    "* [StatQuest: Principal Component Analysis (PCA), Step-by-Step\n",
    "](https://www.youtube.com/watch?v=FgakZw6K1QQ)\n",
    "* [Principal Component Analysis (PCA) - Computerphile](https://www.youtube.com/watch?v=TJdH6rPA-TI)\n",
    "* [Making sense of principal component analysis, eigenvectors & eigenvalues](https://stats.stackexchange.com/questions/2691/making-sense-of-principal-component-analysis-eigenvectors-eigenvalues/140579)\n"
   ]
  },
  {
   "cell_type": "markdown",
   "metadata": {},
   "source": []
  }
 ],
 "metadata": {
  "kernelspec": {
   "display_name": "base",
   "language": "python",
   "name": "python3"
  },
  "language_info": {
   "codemirror_mode": {
    "name": "ipython",
    "version": 3
   },
   "file_extension": ".py",
   "mimetype": "text/x-python",
   "name": "python",
   "nbconvert_exporter": "python",
   "pygments_lexer": "ipython3",
   "version": "3.10.14"
  }
 },
 "nbformat": 4,
 "nbformat_minor": 2
}
