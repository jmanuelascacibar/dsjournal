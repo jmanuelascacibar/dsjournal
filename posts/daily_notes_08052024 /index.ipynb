{
 "cells": [
  {
   "cell_type": "raw",
   "metadata": {
    "vscode": {
     "languageId": "raw"
    }
   },
   "source": [
    "---\n",
    "title: \"Daily Note - 08-05-2024\"\n",
    "format: \n",
    "  html:\n",
    "    code-fold: true\n",
    "    toc: true\n",
    "    toc-levels: 4\n",
    "    toc-expand: 4\n",
    "    \n",
    "author: \"JM Ascacibar\"\n",
    "date: \"2024-05-08\"\n",
    "categories: \n",
    "  - Statistics\n",
    "  - python\n",
    "  - partial Dependence plots\n",
    "  - seaborn\n",
    "  - standardization\n",
    "  - numpy\n",
    "\n",
    "---"
   ]
  },
  {
   "cell_type": "markdown",
   "metadata": {},
   "source": [
    "*Concept symmetric function, Order statistics, Quantiles, Python args syntax, Color palette in seaborn, standarization, plus or minus shortkey, not equal element-wise numpy function* \n",
    "\n",
    "![](designer.jpeg)"
   ]
  },
  {
   "cell_type": "markdown",
   "metadata": {
    "vscode": {
     "languageId": "raw"
    }
   },
   "source": [
    "# Daily Note - 08/05/2024\n",
    "\n",
    "## 1. Symmetric function\n",
    "\n",
    "Symmetric function refer to a mathematical function that treats all input features equally and produce the same output regardless of the order or arrangement of the features. In other words, these functions are insensitive to the specific ordering or permutation of the input variables.\n",
    "\n",
    "Consider the following example:\n",
    "\n",
    "$f(x, y, z) = x + y + z$ is a symmetric function because $f(x, y, z) = f(y, z, x)$ the order of the input variables does not matter. For example, $f(1, 2, 3) = f(3, 2, 1) = 6$.\n",
    "\n",
    "## 2. Quantiles\n",
    "\n",
    "In statistics, quantiles are cut points dividing the range of a probability distribution into continuous intervals with equal probabilities, or dividing the observations in a sample in the same way. Common quantiles have special names: for instance quartiles(four groups), deciles(ten groups), and percentiles(hundred groups).\n",
    "\n",
    "Wikipedia [link](https://en.wikipedia.org/wiki/Quantile#:~:text=In%20statistics%20and%20probability%2C%20quantiles,the%20number%20of%20groups%20created.)\n",
    "\n",
    "Pandas quantile [link](https://pandas.pydata.org/pandas-docs/stable/reference/api/pandas.DataFrame.quantile.html)\n",
    "\n",
    "\n",
    "## 3. Order Statistics\n",
    "\n",
    "In statistics, the k-th order statistic of a statistical sample is equal to its k-th smallest value. Together with rank statistics, order statistics are among the most fundamental tools in non-parametric statistics and inference. Important special cases are the minimum and maximum value of a sample.\n",
    "\n",
    "## 4. Create a list of functions to apply to each row, and then use a loop to create new columns for each function\n",
    "\n",
    "This code defines a list of tuples, where each tuple contains a function and a column name.\n",
    "\n",
    "The ``create_order_stats`` function applies each function to the ``init_feat`` columns of the input DataFrame ``df``. The ``lambda`` functions are used to create custom functions for the 95th and 5th percentiles. Finally, the code loops over the train and test DataFrames, applying the create_order_stats function to each one.\n",
    "\n",
    " I used the *args syntax to allow for functions with varying numbers of arguments. If a function has additional arguments (like np.percentile), they are passed as a dictionary in the args list. If a function has no additional arguments (like np.min), the args list is empty\n",
    "\n",
    "```python\n",
    "def create_order_stats(df, init_feat):\n",
    "    funcs = [\n",
    "        (np.min, 'Fmin'),\n",
    "        (np.percentile, '1P', {'q': 0.01}),\n",
    "        (np.percentile, '5P', {'q': 0.05}),\n",
    "        (np.percentile, '10P', {'q': 0.10}),\n",
    "        (np.percentile, '25P', {'q': 0.25}),\n",
    "        (np.median, 'Fmedian'),\n",
    "        (np.percentile, '75P', {'q': 0.75}),\n",
    "        (np.percentile, '90P', {'q': 0.90}),\n",
    "        (np.percentile, '95P', {'q': 0.95}),\n",
    "        (np.percentile, '99P', {'q': 0.99}),\n",
    "        (np.max, 'Fmax'),\n",
    "        (np.std, 'Fstd'),\n",
    "        (np.var, 'Fvar'),\n",
    "        (skew, 'Fskew'),\n",
    "        (kurtosis, 'Fkurt')\n",
    "    ]\n",
    "\n",
    "    for func, col_name, *args in funcs:\n",
    "        if args:\n",
    "            df[col_name] = func(df[init_feat].values, axis=1, **args[0])\n",
    "        else:\n",
    "            df[col_name] = func(df[init_feat].values, axis=1)\n",
    "\n",
    "for df in [train, test]:\n",
    "    create_order_stats(df, init_feat)\n",
    "```\n",
    "\n",
    "## 5. Color Palette in Seaborn\n",
    "You can find color palettes in seaborn [here](https://seaborn.pydata.org/tutorial/color_palettes.html)\n",
    "\n",
    "\n",
    "## 6. Implications of negative correlation between features:\n",
    "\n",
    "A negative correlation between two variables can indicate that one attribute is sustitute for the other. This means that as one variable increases, the other decreases.\n",
    "\n",
    "## 7. Standarize before creating polynomial features?\n",
    "\n",
    "When applying polynomial features, it's generally recommended to standarize your data after creating the polynomial features. If you didn't standarize these new features after creating them, although the new features are \"standarized\" your new features will be one or more magnitude smaller than your old features. \n",
    "\n",
    "[Do I have to standardize my new polynomial features?](https://datascience.stackexchange.com/questions/9020/do-i-have-to-standardize-my-new-polynomial-features)\n",
    "\n",
    "[Should I standardize first or generate polynomials first?](https://datascience.stackexchange.com/questions/20525/should-i-standardize-first-or-generate-polynomials-first)\n",
    "\n",
    "@AMBROSM standarize before...[notebook](https://www.kaggle.com/code/ambrosm/pss4e5-eda-which-makes-sense)\n",
    "\n",
    "\n",
    "## 8. Adding Plus or Minus \n",
    "Hold down the Alt key and type 241. ±\n",
    "\n",
    "## 9. Get Not equal to of dataframe and other, element-wise (binary operator ne). -> Pandas ne\n",
    "\n",
    "Instead of using the `!=` operator, you can use the `ne` method to get the element-wise not equal to of the dataframe and other.\n",
    "\n",
    "```python\n",
    "df['hasBlastFurnaceSlag'] = df.BlastFurnaceSlag.ne(0).astype(int)\n",
    "```"
   ]
  }
 ],
 "metadata": {
  "kernelspec": {
   "display_name": "base",
   "language": "python",
   "name": "python3"
  },
  "language_info": {
   "codemirror_mode": {
    "name": "ipython",
    "version": 3
   },
   "file_extension": ".py",
   "mimetype": "text/x-python",
   "name": "python",
   "nbconvert_exporter": "python",
   "pygments_lexer": "ipython3",
   "version": "3.10.14"
  }
 },
 "nbformat": 4,
 "nbformat_minor": 2
}
