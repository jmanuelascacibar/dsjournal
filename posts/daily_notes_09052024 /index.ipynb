{
 "cells": [
  {
   "cell_type": "raw",
   "metadata": {
    "vscode": {
     "languageId": "raw"
    }
   },
   "source": [
    "---\n",
    "title: \"Daily Note - 09-05-2024\"\n",
    "format: \n",
    "  html:\n",
    "    code-fold: true\n",
    "    toc: true\n",
    "    toc-levels: 4\n",
    "    toc-expand: 4\n",
    "    \n",
    "author: \"JM Ascacibar\"\n",
    "date: \"2024-05-09\"\n",
    "categories: \n",
    "  - scikit-learn\n",
    "  - probability theory\n",
    "  - partial Dependence plots\n",
    "\n",
    "---"
   ]
  },
  {
   "cell_type": "markdown",
   "metadata": {},
   "source": [
    "*ColumnTransformer and make_pipeline, Spline transformer, os.system(), Independence concept, Feature indepence, Partial Dependence Plot, Individual conditional expectations (ICE)*\n",
    "\n",
    "![](designer.jpeg)"
   ]
  },
  {
   "cell_type": "markdown",
   "metadata": {
    "vscode": {
     "languageId": "raw"
    }
   },
   "source": [
    "# Daily Note - 09/05/2024\n",
    "\n",
    "## 1. Using column transformer with a pipeline\n",
    " \n",
    " To create a pipeline with a ColumnTransformer that applies a StandardScaler and PolynomialFeatures to a subset of features, and then uses a Ridge regressor, you need to use the make_pipeline function with column transformer inside first. The trick come next. Inside of column transformer, you want to standardize first and apply the polynomial features next to a specific set of features. To do that, you need to create a new make_pipeline inside the column transformer. The code below shows how to do that:\n",
    "\n",
    "```python\n",
    "model = make_pipeline(\n",
    "    ColumnTransformer([\n",
    "        ('scaler_poly', make_pipeline(StandardScaler(), PolynomialFeatures(2)), init_feat)\n",
    "    ], remainder='passthrough'),\n",
    "    Ridge(alpha=73)\n",
    ")\n",
    "```\n",
    "\n",
    "## 2. Spline transformer\n",
    "\n",
    "Spline transformer allows you to add nonlinear features without using pure polynomials. Sometimes can match the data better than polynomials.\n",
    "\n",
    "## 3. Executing a system command inside of a notebook\n",
    "\n",
    "To execute a system command inside of a notebook, you can use the exclamation mark before the command. But if you want to store part of the command in a variable, you need to use the f-string to concatenate the variable with the command inside of `os` module using the `os.system()` function. The code below shows how to do that:\n",
    "\n",
    "```python\n",
    "os.system(f'head {filename}')\n",
    "```\n",
    "\n",
    "## 4. Independence (probability theory)\n",
    "\n",
    "We say that two events are independent if the occurrence of one event does not affect the probability of the other event.\n",
    "\n",
    "Similarly, two random variables are independent ($A \\perp B$) if the realization of one doesn't affect the probability distribution of the other.\n",
    "\n",
    "## 5. Feature independance\n",
    "\n",
    "In machine learning and statistics, feature independence is a concept that refers to the assumption that each feature in a model is independent of the other features. However, in practice, this assumption is rarely true. In fact, most features are correlated with each other to some extent. You can use feature engineering techniques to create new features that are more independent of each other. You can also use regularization techniques to reduce the impact of correlated features on your model. Using a model that can handle correlated features, such as a ensemble tree-based model like random forest, can also help.\n",
    "\n",
    "## 6. Partial dependence plot\n",
    "\n",
    "Partial dependence plots can help to understand how each feature affects the model's predictions. For example how does the water component or the cement component affect the prediction of concrete strength. \n",
    "\n",
    "For example, we want to understand how the cement and water features affect the predicted strength of the concrete. We can create partial dependence plots to visualize these relationships.\n",
    "\n",
    "Cement (kg/m³) | Predicted Strength (MPa)\n",
    "----------------|----------------------\n",
    "200            | 20\n",
    "220            | 22\n",
    "240            | 24\n",
    "260            | 26\n",
    "280            | 28\n",
    "300            | 30\n",
    "320            | 32\n",
    "340            | 34\n",
    "360            | 36\n",
    "380            | 38\n",
    "400            | 40\n",
    "\n",
    "In this plot, we'll hold the water feature constant at its median value (say, 150 kg/m³) and vary the cement feature from 200 kg/m³ to 400 kg/m³. For each cement value, we'll calculate the predicted strength using our model and plot the average predicted strength.\n",
    "\n",
    "The plot shows that as the amount of cement increases, the predicted strength of the concrete also increases. This makes sense, as cement is a key component of concrete that provides strength.\n",
    "\n",
    "## 7. Individual conditional expectation (ICE) plot:\n",
    "Unlike a PDP, which shows the average effect of the input feature, an ICE plot visualizes the dependence of the prediction on a feature for each sample separately with one line per sample.\n",
    "\n",
    "Scikit-Learn [documentation](https://scikit-learn.org/stable/modules/partial_dependence.html#partial-dependence)"
   ]
  },
  {
   "cell_type": "markdown",
   "metadata": {},
   "source": [
    "## Resources\n",
    "\n",
    "- I've found a very good course about ML by professor Larry Wasserman. [Link](https://www.stat.cmu.edu/~larry/=stat401/)\n",
    "- [ritvikmat](https://www.youtube.com/@ritvikmath) is a great youtube channel about statistics and ml"
   ]
  },
  {
   "cell_type": "markdown",
   "metadata": {},
   "source": []
  }
 ],
 "metadata": {
  "kernelspec": {
   "display_name": "base",
   "language": "python",
   "name": "python3"
  },
  "language_info": {
   "codemirror_mode": {
    "name": "ipython",
    "version": 3
   },
   "file_extension": ".py",
   "mimetype": "text/x-python",
   "name": "python",
   "nbconvert_exporter": "python",
   "pygments_lexer": "ipython3",
   "version": "3.10.14"
  }
 },
 "nbformat": 4,
 "nbformat_minor": 2
}
