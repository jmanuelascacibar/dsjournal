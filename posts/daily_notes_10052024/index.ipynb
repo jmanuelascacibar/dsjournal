{
 "cells": [
  {
   "cell_type": "raw",
   "metadata": {
    "vscode": {
     "languageId": "raw"
    }
   },
   "source": [
    "---\n",
    "title: \"Daily Note - 10-05-2024\"\n",
    "format: \n",
    "  html:\n",
    "    code-fold: true\n",
    "    toc: true\n",
    "    toc-levels: 4\n",
    "    toc-expand: 4\n",
    "    \n",
    "author: \"JM Ascacibar\"\n",
    "date: \"2024-05-10\"\n",
    "categories: \n",
    "  - Statistics\n",
    "---"
   ]
  },
  {
   "cell_type": "markdown",
   "metadata": {},
   "source": [
    "*Order statistics definition*\n",
    "\n",
    "![](designer.jpeg)"
   ]
  },
  {
   "cell_type": "markdown",
   "metadata": {
    "vscode": {
     "languageId": "raw"
    }
   },
   "source": [
    "# Working plan for the next weeks\n",
    "- [ ] Coefficient of determination, $R^2$\n",
    "- [ ] Flood Competition. Modelling the data and making predictions\n",
    "- [ ] AMEX competition\n",
    "- [ ] Concrete competition. Modelling the data and making predictions\n",
    "- [ ] Shapley \n",
    "- [ ] Inference and prediction\n",
    "- [ ] PCA\n",
    "- [ ] Target Transformations\n",
    "- [ ] Richard Dawking explanation of FP and FN\n",
    "- [ ] Finish Quarto blog\n",
    "\n",
    "\n",
    "# Daily Note - 10/05/2024\n",
    "\n",
    "#### 1. Order Statistics ([more](https://en.wikipedia.org/wiki/Order_statistic))\n",
    "\n",
    "In statistics, the k-th order statistic of a statistical sample is equal to its k-th smallest value. Together with rank statistics, order statistics are among the most fundamental tools in non-parametric statistics and inference. Important special cases are the minimum and maximum value of a sample. Together with [rank statistics](https://en.wikipedia.org/wiki/Ranking_(statistics)), order statistics are among the most fundamental tools in non-parametric statistics and inference.\n",
    "\n",
    "The first order statistic is always the minimum of the sample. It's denoted by $X_{(1)} = \\min\\{X_{1}, ..., X_{n}\\}$.\n",
    "\n",
    "Similarly, for a sample size n, the largest order statistic is the maximum, denoted by $X_{(n)} = \\max\\{X_{1}, ..., X_{n}\\}$.\n",
    "\n",
    "The sample range is the difference between the maximum and minimum order statistics: $R = X_{(n)} - X_{(1)}$. \n",
    "\n",
    "Similar is the interquantile range, which is the difference between the 75th and 25th percentiles, denoted by $IQR = X_{(0.75n)} - X_{(0.25n)}$.\n",
    "\n",
    "The sample median may or may not be an order statistic, since there is a single middle value only when the number n of observations is odd.\n",
    "\n",
    "\n",
    "[A most simple an beautiful explanation](https://mathworld.wolfram.com/OrderStatistic.html):\n",
    "\n",
    "Given a sample of $n$ variates $X_{1}, ..., X_{n}$, reorder them so that $Y_{1} < Y_{2} < ... < Y_{N}$. Then $Y_{i}$ is called the $i^{th}$ oder statistic, sometimes also denote by $X_{(i)}$.\n"
   ]
  }
 ],
 "metadata": {
  "kernelspec": {
   "display_name": "base",
   "language": "python",
   "name": "python3"
  },
  "language_info": {
   "codemirror_mode": {
    "name": "ipython",
    "version": 3
   },
   "file_extension": ".py",
   "mimetype": "text/x-python",
   "name": "python",
   "nbconvert_exporter": "python",
   "pygments_lexer": "ipython3",
   "version": "3.10.14"
  }
 },
 "nbformat": 4,
 "nbformat_minor": 2
}
