{
 "cells": [
  {
   "cell_type": "raw",
   "metadata": {
    "vscode": {
     "languageId": "raw"
    }
   },
   "source": [
    "---\n",
    "title: \"Daily Note - 13-05-2024\"\n",
    "format: \n",
    "  html:\n",
    "    code-fold: true\n",
    "    toc: true\n",
    "    toc-levels: 4\n",
    "    toc-expand: 4\n",
    "    \n",
    "author: \"JM Ascacibar\"\n",
    "date: \"2024-05-13\"\n",
    "categories: \n",
    "  - git\n",
    "  - github\n",
    "  - bash \n",
    "  - tmux\n",
    "  - quarto\n",
    "---"
   ]
  },
  {
   "cell_type": "markdown",
   "metadata": {},
   "source": [
    "*Introduction to git, copying files in the terminal, tmux, GitHub Pages, and create a blog in Quarto*\n",
    "\n",
    "![](designer.jpeg)"
   ]
  },
  {
   "cell_type": "markdown",
   "metadata": {
    "vscode": {
     "languageId": "raw"
    }
   },
   "source": [
    "# Working plan for the next weeks\n",
    "- [ ] Coefficient of determination, $R^2$\n",
    "- [ ] Flood Competition. Modelling the data and making predictions\n",
    "- [ ] AMEX competition\n",
    "- [ ] Concrete competition. Modelling the data and making predictions\n",
    "- [ ] Shapley \n",
    "- [ ] Inference and prediction\n",
    "- [ ] PCA\n",
    "- [ ] Target Transformations\n",
    "- [ ] Richard Dawking explanation of FP and FN\n",
    "- [ ] Finish Quarto blog\n"
   ]
  },
  {
   "cell_type": "markdown",
   "metadata": {},
   "source": [
    "# Daily Note - 13/05/2024\n",
    "\n",
    "#### 1. Introduciton to git\n",
    "\n",
    "Git repository is a folder that contains all the files and folders of a project. It is a version control system that allows you to keep track of changes in your code. It is a distributed version control system, which means that you can work on your code locally and then push it to a remote repository.\n",
    "\n",
    "When you save, you basically take a snapshot of your code at that point in time (versoin control). This snapshot is called a commit. You can then go back to that commit at any time. You can also create branches, which are like parallel universes where you can work on different features of your code without affecting the main branch.\n",
    "\n",
    "\n",
    "To put your repository in your computer, you can use the command `git clone <repository_url>`. This will create a folder with the name of the repository in your computer. You can then navigate to that folder and start working on your code.\n",
    "\n",
    "We are going to clone it with something called SSH, which is a secure way to connect to a remote repository. To do this, you need to generate a SSH key in your computer and then add it to your GitHub account. \n",
    "\n",
    "Using the command `git status` you can see the status of your repository. This will show you the files that have been modified, added or deleted.\n",
    "\n",
    "If you want to add all the files that have been modified, you can use the command `git add .`. If you want to add a specific file, you can use `git add <file_name>`.\n",
    "\n",
    "After adding the files, you need to commit them. To do this, you can use the command `git commit -m \"message\"`. The message is a short description of the changes you made in that commit.\n",
    "\n",
    "After committing the changes, you need to push them to the remote repository. To do this, you can use the command `git push origin main`. This will push the changes to the main branch of the remote repository.\n",
    "\n",
    "\n",
    "#### 2. Copying multiple files at once in the terminal to a specific directory\n",
    "\n",
    "You can use a list of files to copy multiple files at once to a specific directory. \n",
    "\n",
    "```bash\n",
    "Terminal \n",
    "cp test.csv sample_submission.csv train.csv ~/git/PSS3E9\n",
    "```\n",
    "\n",
    "This will copy the files `test.csv`, `sample_submission.csv` and `train.csv` to the directory `~/git/PSS3E9`.\n",
    "\n",
    "You can also use pattern with wildcards to copy multiple files at once. For example, to copy all the files that end with `.csv` to a specific directory, you can use the following command:\n",
    "\n",
    "```bash\n",
    "Terminal\n",
    "cp *.csv ~/git/PSS3E9\n",
    "``` \n",
    "\n",
    "Also you can use a pattern with curly braces to copy multiple files at once. \n",
    "\n",
    "```bash\n",
    "Terminal\n",
    "cp {test,sample_submission,train}.csv ~/git/PSS3E9\n",
    "```\n",
    "\n",
    "#### 3. Change to your most recent directory in the terminal\n",
    "\n",
    "You can use the command `cd -` to change to your most recent directory in the terminal. This is useful when you want to go back to the directory you were before.\n",
    "\n",
    "`pushd` and `popd` are also useful commands to navigate between directories. `pushd` saves the current directory and changes to the directory you specify. `popd` goes back to the directory you saved with `pushd`. \n",
    "\n",
    "#### 4. Instead of using multiple tab terminals, use tmux\n",
    "\n",
    "Tmux is a terminal multiplexer that allows you to split your terminal into multiple panes. This is useful when you want to work on multiple things at once. You can create a new pane with `Ctrl+b %` and navigate between panes with `Ctrl+b arrow keys`. To create a new pane down, you can use `Ctrl+b \"`.\n",
    "\n",
    "You can close the panes with `exit` or `Ctrl+d`. To close tmux, you can use `Ctrl+b d`. \n",
    "\n",
    "To get more room in the pane you are working on, you can use `Ctrl+b z` to zoom in and out.\n",
    "\n",
    "The good thing about tmux is that runs in the background, so you can close your terminal and open it again and your panes will still be there. You need to first detach from tmux with `Ctrl+b d` and then close your terminal. To attach to tmux again, you can use `tmux attach`.\n",
    "\n",
    "#### 5. Quick start for GitHub pages\n",
    "\n",
    "GitHub pages is a free service that allows you to host a website directly from a GitHub repository. You can use it to create a personal website, a blog, a portfolio, or a project page.\n",
    "\n",
    "Check the [GitHub Pages documentation](https://docs.github.com/en/pages/quickstart) for more information on how to get started.\n",
    "\n",
    "#### 6 Create a Quarto blog\n",
    "\n",
    "Quarto is a tool that allows you to create documents in markdown and publish them as a website. You can use it to create a blog, a journal, a report, or a book.\n",
    "\n",
    "First create a github repository with the same name of your project.\n",
    "\n",
    "Using Quarto extension in VSCode, you can start a new Quarto project from the command palette with `Quarto: New Project`. You can then select the type of project you want to create (e.g., blog, journal, report, book). This will create a new folder with the necessary files to start writing your document. \n",
    "\n",
    "Write the same name project that your github repository.\n",
    "\n",
    "Once all the files are in the folder, [you need to change your project configuration](https://quarto.org/docs/publishing/github-pages.html). \n",
    "```yaml\n",
    "_quarto.yml\n",
    "project:\n",
    "  type: website\n",
    "  output-dir: docs\n",
    "```\n",
    "\n",
    "Go to the terminal and run `quarto render` to render the website. \n",
    "\n",
    "Then you need to push the changes to the repository. \n",
    "\n",
    "```bash\n",
    "Terminal\n",
    "git add .\n",
    "git commit -m \"Initial commit\"\n",
    "git push \n",
    "```\n",
    "\n",
    "Go to the settings of your repository and select the source of your GitHub pages as `main` and the folder as `docs`.\n",
    "\n",
    "You can then access your website at `https://<username>.github.io/<repository_name>`."
   ]
  },
  {
   "cell_type": "markdown",
   "metadata": {},
   "source": [
    "# Findings and resources:\n",
    "\n",
    "- Very good video about version control and jupyter notebooks [here](https://www.youtube.com/watch?v=jLgkMa9DvaQ)\n",
    "- Joel Grus book about why he doesn't like notebooks. His website is [here](https://joelgrus.com/). He has a book called Data Science from Scratch.\n",
    "- Joel Grus talk about why he doesn't like notebooks [here](https://www.youtube.com/watch?v=3Fa6uzHxTkQ)\n",
    "\n",
    "Quarto Resources:\n",
    "\n",
    "* [Set up navigation](https://quarto.org/docs/websites/website-navigation.html)\n",
    "* [Website tools](https://quarto.org/docs/websites/website-tools.html) (Google Analytics!)\n",
    "* [Customize your listing (front blog page)](https://quarto.org/docs/websites/website-listings.html)"
   ]
  },
  {
   "cell_type": "markdown",
   "metadata": {},
   "source": []
  }
 ],
 "metadata": {
  "kernelspec": {
   "display_name": "base",
   "language": "python",
   "name": "python3"
  },
  "language_info": {
   "codemirror_mode": {
    "name": "ipython",
    "version": 3
   },
   "file_extension": ".py",
   "mimetype": "text/x-python",
   "name": "python",
   "nbconvert_exporter": "python",
   "pygments_lexer": "ipython3",
   "version": "3.10.14"
  }
 },
 "nbformat": 4,
 "nbformat_minor": 2
}
