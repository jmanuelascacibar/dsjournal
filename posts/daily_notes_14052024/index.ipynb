{
 "cells": [
  {
   "cell_type": "raw",
   "metadata": {
    "vscode": {
     "languageId": "raw"
    }
   },
   "source": [
    "---\n",
    "title: \"Daily Note - 14-05-2024\"\n",
    "format: \n",
    "  html:\n",
    "    code-fold: true\n",
    "    toc: true\n",
    "    toc-levels: 4\n",
    "    toc-expand: 4\n",
    "    \n",
    "author: \"JM Ascacibar\"\n",
    "date: \"2024-05-14\"\n",
    "categories: \n",
    "  - quarto\n",
    "---"
   ]
  },
  {
   "cell_type": "markdown",
   "metadata": {},
   "source": [
    "*Render in Quarto, quarto raw block, quarto table of content, quarto converting jupyter notebook to quarto*\n",
    "\n",
    "![](designer.jpeg)"
   ]
  },
  {
   "cell_type": "markdown",
   "metadata": {
    "vscode": {
     "languageId": "raw"
    }
   },
   "source": [
    "# Working plan for the next weeks\n",
    "- [ ] Coefficient of determination, $R^2$\n",
    "- [ ] Flood Competition. Modelling the data and making predictions\n",
    "- [ ] AMEX competition\n",
    "- [ ] Concrete competition. Modelling the data and making predictions\n",
    "- [ ] Shapley \n",
    "- [ ] Inference and prediction\n",
    "- [ ] PCA\n",
    "- [ ] Target Transformations\n",
    "- [ ] Richard Dawking explanation of FP and FN\n",
    "\n",
    "# Daily Note - 14/05/2024\n",
    "\n",
    "#### 1. Render Jupyter Notebooks with Quarto\n",
    "\n",
    "Quarto can render Jupyter Notebooks, which is a great feature. The ideal workflow is to use `quarto preview` to get a preview of the notebook and the `quarto render` to render the notebook to a different format.\n",
    "\n",
    "```bash\t\n",
    "Terminal\n",
    "quarto preview notebook.ipynb\n",
    "```\t\n",
    "\n",
    "You can preview in different formats, like HTML, PDF, or Docx.\n",
    "\n",
    "```bash\n",
    "Terminal\n",
    "quarto preview notebook.ipynb --to pdf\n",
    "```\n",
    "\n",
    "You can render without preview \n",
    "    \n",
    "```bash\n",
    "Terminal\n",
    "quarto render notebook.ipynb\n",
    "```\n",
    "\n",
    "#### 2. Quarto first block `raw`\n",
    "\n",
    "The first block in a Quarto document is the `raw` block. It is used to specify the document format, title, and author. \n",
    "\n",
    "#### 3. Add table of content to your document\n",
    "You can use the `toc` option to automatically generated table of content in the output document. You can also specify the number of levels using `toc-depth` option. `toc-expand` option can be used to expand the table of content. You can also use `toc-title` to specify the title of the table of content and specify the location using `toc-location`.\n",
    "\n",
    "#### 4. Converting a Jupyter Notebook to Quarto\n",
    "You can convert a Jupyter Notebook to Quarto using the `quarto convert` command. \n",
    "\n",
    "```bash\n",
    "Terminal\n",
    "quarto convert notebook.ipynb\n",
    "```"
   ]
  },
  {
   "cell_type": "markdown",
   "metadata": {},
   "source": [
    "# Findings and resources:\n",
    "\n",
    "- Wonderful markdown basic resource, [here](https://quarto.org/docs/authoring/markdown-basics.html)\n",
    "- Quarto HTML basics (table of content, etc), [here](https://quarto.org/docs/output-formats/html-basics.html)\n",
    "- Execution options (output options, figure options, jupyter options), [here](https://quarto.org/docs/computations/execution-options.html#output-options)\n",
    "- I've stumble upon [John Crickett's blog](https://codingchallenges.fyi/blog) and it's a great resource for coding challenges."
   ]
  },
  {
   "cell_type": "markdown",
   "metadata": {},
   "source": []
  }
 ],
 "metadata": {
  "kernelspec": {
   "display_name": "base",
   "language": "python",
   "name": "python3"
  },
  "language_info": {
   "codemirror_mode": {
    "name": "ipython",
    "version": 3
   },
   "file_extension": ".py",
   "mimetype": "text/x-python",
   "name": "python",
   "nbconvert_exporter": "python",
   "pygments_lexer": "ipython3",
   "version": "3.10.14"
  }
 },
 "nbformat": 4,
 "nbformat_minor": 2
}
