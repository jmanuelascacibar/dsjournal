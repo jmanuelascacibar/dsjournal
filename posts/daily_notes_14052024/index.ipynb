{
 "cells": [
  {
   "cell_type": "raw",
   "metadata": {
    "vscode": {
     "languageId": "raw"
    }
   },
   "source": [
    "---\n",
    "title: \"Daily Note - 14-05-2024\"\n",
    "format: \n",
    "  html:\n",
    "    code-fold: false\n",
    "    toc: true\n",
    "    toc-levels: 4\n",
    "    toc-expand: 4\n",
    "jupyter: python3  \n",
    "author: \"JM Ascacibar\"\n",
    "date: \"2024-05-14\"\n",
    "categories: \n",
    "  - quarto\n",
    "  - bash\n",
    "  - python\n",
    "  - debugging\n",
    "---"
   ]
  },
  {
   "cell_type": "markdown",
   "metadata": {},
   "source": [
    "*Render in Quarto, quarto raw block, quarto table of content, quarto converting jupyter notebook to quarto, PATH in bash, bashrc, source, debugging notebooks*\n",
    "\n",
    "![](designer.jpeg)"
   ]
  },
  {
   "cell_type": "markdown",
   "metadata": {
    "vscode": {
     "languageId": "raw"
    }
   },
   "source": [
    "# Working plan for the next weeks\n",
    "- [ ] Flood Competition. Modelling the data and making predictions\n",
    "- [ ] AMEX competition\n",
    "- [ ] Concrete competition. Modelling the data and making predictions\n",
    "- [ ] Shapley \n",
    "- [ ] Inference and prediction\n",
    "- [ ] PCA\n",
    "- [ ] Target Transformations\n",
    "- [ ] Richard Dawking explanation of FP and FN\n",
    "\n",
    "# Daily Note - 14/05/2024\n",
    "\n",
    "#### 1. Render Jupyter Notebooks with Quarto\n",
    "\n",
    "Quarto can render Jupyter Notebooks, which is a great feature. The ideal workflow is to use `quarto preview` to get a preview of the notebook and the `quarto render` to render the notebook to a different format.\n",
    "\n",
    "```bash\t\n",
    "Terminal\n",
    "quarto preview notebook.ipynb\n",
    "```\t\n",
    "\n",
    "You can preview in different formats, like HTML, PDF, or Docx.\n",
    "\n",
    "```bash\n",
    "Terminal\n",
    "quarto preview notebook.ipynb --to pdf\n",
    "```\n",
    "\n",
    "You can render without preview \n",
    "    \n",
    "```bash\n",
    "Terminal\n",
    "quarto render notebook.ipynb\n",
    "```\n",
    "\n",
    "#### 2. Quarto first block `raw`\n",
    "\n",
    "The first block in a Quarto document is the `raw` block. It is used to specify the document format, title, and author. \n",
    "\n",
    "#### 3. Add table of content to your document\n",
    "You can use the `toc` option to automatically generated table of content in the output document. You can also specify the number of levels using `toc-depth` option. `toc-expand` option can be used to expand the table of content. You can also use `toc-title` to specify the title of the table of content and specify the location using `toc-location`.\n",
    "\n",
    "#### 4. Converting a Jupyter Notebook to Quarto\n",
    "You can convert a Jupyter Notebook to Quarto using the `quarto convert` command. \n",
    "\n",
    "```bash\n",
    "Terminal\n",
    "quarto convert notebook.ipynb\n",
    "```\n",
    "\n",
    "#### 6. `PATH` in bash:\n",
    "The `PATH` is an environment variable that specifies a set of directories where executable programs are located. When you type a command in the terminal, the system searches through the directories specified in the `PATH` variable to find the executable program.\n",
    "This is like a python variable that lives in your shell. \n",
    "\n",
    "For example, if you want to know from where your python is running, you can use the following command:\n",
    "\n",
    "```bash\n",
    "Terminal\n",
    "which python\n",
    "```\n",
    "\n",
    "In order to print the `PATH` variable, you can use the following command:\n",
    "\n",
    "```bash\n",
    "Terminal\n",
    "echo $PATH\n",
    "```\n",
    "\n",
    "#### 7. `~/.bashrc` file\n",
    "\n",
    "It's a shell configuration file that is executed when you start a new shell session. You can add environment variables, aliases, and other shell configurations to this file.\n",
    "\n",
    "For example you can create the alias `ll` to list all files in a directory:\n",
    "\n",
    "```bash\n",
    "vim ~/.bashrc\n",
    "alias ll = 'ls -al'\n",
    "```\n",
    "\n",
    "#### 8. `source`  and `.` command\n",
    "\n",
    "In bash, the `source` command is used to execute commands from a file in the current shell session. Read the content of a file, which can be a script, a configuration file, or a file containing functions or aliases. Execute in the current shell environment.\n",
    "\n",
    "The dot `.` command is a synonym for the `source` command as we've seen before with `~/.bashrc`. \n",
    "\n",
    "#### 9. Debugging in Jupyter Notebooks"
   ]
  },
  {
   "cell_type": "code",
   "execution_count": 2,
   "metadata": {},
   "outputs": [
    {
     "name": "stdout",
     "output_type": "stream",
     "text": [
      "0\n",
      "1\n",
      "2\n",
      "3\n",
      "4\n",
      "5\n",
      "6\n",
      "7\n",
      "8\n",
      "9\n"
     ]
    }
   ],
   "source": [
    "#| label: for loop debugging\n",
    "for i in range(10):\n",
    "    print(i)"
   ]
  },
  {
   "cell_type": "markdown",
   "metadata": {},
   "source": [
    "Let's say you want to investigate how the cell above is executed. In VSCode you can go to the cell and create a breakpoint. Then you can run the cell in debug mode. \n",
    "Now you are in a UI that allows you to inspect the variables, step through the code, and see the output of the cell.\n",
    "\n",
    "![](debugging1.JPG)\n",
    "\n",
    "You can use the `Step Over` button to execute the current line and move to the next line. You can also use the `Step Into` button to move into a function or method call. The `Step Out` button allows you to move out of the current function or method. The `Continue` button allows you to continue the execution of the cell until the next breakpoint is reached.\n",
    "![](debugging2.JPG)\n"
   ]
  },
  {
   "cell_type": "markdown",
   "metadata": {},
   "source": [
    "# Findings and resources:\n",
    "\n",
    "- Wonderful markdown basic resource, [here](https://quarto.org/docs/authoring/markdown-basics.html)\n",
    "- Quarto HTML basics (table of content, etc), [here](https://quarto.org/docs/output-formats/html-basics.html)\n",
    "- Execution options (output options, figure options, jupyter options), [here](https://quarto.org/docs/computations/execution-options.html#output-options)\n",
    "- I've stumble upon [John Crickett's blog](https://codingchallenges.fyi/blog) and it's a great resource for coding challenges."
   ]
  }
 ],
 "metadata": {
  "kernelspec": {
   "display_name": "base",
   "language": "python",
   "name": "python3"
  },
  "language_info": {
   "codemirror_mode": {
    "name": "ipython",
    "version": 3
   },
   "file_extension": ".py",
   "mimetype": "text/x-python",
   "name": "python",
   "nbconvert_exporter": "python",
   "pygments_lexer": "ipython3",
   "version": "3.10.14"
  }
 },
 "nbformat": 4,
 "nbformat_minor": 2
}
