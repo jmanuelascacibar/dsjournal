{
 "cells": [
  {
   "cell_type": "raw",
   "metadata": {
    "vscode": {
     "languageId": "raw"
    }
   },
   "source": [
    "---\n",
    "title: \"Daily Note - 15-05-2024\"\n",
    "format: \n",
    "  html:\n",
    "    code-fold: false\n",
    "    toc: true\n",
    "    toc-levels: 4\n",
    "    toc-expand: 2\n",
    "jupyter: python3  \n",
    "author: \"JM Ascacibar\"\n",
    "date: \"2024-05-15\"\n",
    "categories: \n",
    "  - AMEX\n",
    "  - bash\n",
    "  - python\n",
    "  - mamba\n",
    "  - pandas\n",
    "  \n",
    "---"
   ]
  },
  {
   "cell_type": "markdown",
   "metadata": {},
   "source": [
    "*String encoding, bits and bytes, Hexadecimal strings, installing mamba, installing dask, `wc -l`, `random.sample()`, `sorted()` and `sort()`, `pd.options`*\n",
    "\n",
    "![](designer.jpeg)"
   ]
  },
  {
   "cell_type": "markdown",
   "metadata": {
    "vscode": {
     "languageId": "raw"
    }
   },
   "source": [
    "# Working plan for the next weeks\n",
    "- [ ] Flood Competition. Modelling the data and making predictions\n",
    "- [ ] AMEX competition\n",
    "- [ ] Concrete competition. Modelling the data and making predictions\n",
    "- [ ] Shapley \n",
    "- [ ] Inference and prediction\n",
    "- [ ] PCA\n",
    "- [ ] Target Transformations\n",
    "- [ ] Richard Dawking explanation of FP and FN\n",
    "\n",
    "# Daily Note - 15/05/2024\n",
    "\n",
    "## 1. String encoding\n",
    "\n",
    "String encoding refers to the process of converting a string of characters into a sequence of bytes. When a string is stored or transmitted, it is encoded into bytes, When it is read or received, it is decoded back into a string. The encoding ensures that the text remains consistent and interpretable across different systems.\n",
    "\n",
    "## 2. Units of digital information: bits and bytes\n",
    "\n",
    "Bits and bytes are the basic units of digital information. It's the most basic unit of data in computing. A bit is a binary digit that can have a value of 0 or 1. They are used to represent binary data. \n",
    "\n",
    "A byte is larger unit of data, typically consisting of 8 bits. It's used to represent characters, numbers, and other data. Bytes are the standard unit for measuring data storage and transmission.\n",
    "\n",
    "1 byte = 8 bits, this means that a byte can represent 256 different values (2^8).\n",
    "\n",
    "For example the character 'A' is represented by the byte 01000001 in ASCII encoding. This is a 8-bit sequence, so it's a byte.\n",
    "\n",
    "## 3. Common Encodings\n",
    "\n",
    "- ASCII: American Standard Code for Information Interchange. It is a character encoding standard for electronic communication. Uses 7 or 8 bits (Extended ASCII) to represent each character. It can represent 128 character or 256 characters in the extended version.\n",
    "\n",
    "- UTF-8 (Unicode Transformation Format): It is a variable-width character encoding standard that represent every character in the Unicode character set. Each character is represented by 1 to 4 bytes. It is backward compatible with ASCII for the first 128 characters (1 byte each) \n",
    "\n",
    "- UTF-16: It is a variable-width character encoding standard that uses 16 bits to represent each character. It can represent over a million characters.\n",
    "\n",
    "- UTF-32: It is a fixed-width character encoding standard that uses 32 bits to represent each character. Represent every character in the Unicode standard using a fixed width. \n",
    "\n",
    "## 4. Hexadecimal strings\n",
    "\n",
    "Hexadecimal, often abbreviated as \"hex,\" is a base-16 numeral system used in mathematics and computing. It extends the decimal (base-10) system by adding six additional symbols, using digits 0-9 and letters A-F\n",
    "\n",
    "#### Hexadecimal Table\n",
    "\n",
    "| Decimal | Hexadecimal |\n",
    "|---------|-------------|\n",
    "| 0       | 0           |\n",
    "| 1       | 1           |\n",
    "| 2       | 2           |\n",
    "| 3       | 3           |\n",
    "| 4       | 4           |\n",
    "| 5       | 5           |\n",
    "| 6       | 6           |\n",
    "| 7       | 7           |\n",
    "| 8       | 8           |\n",
    "| 9       | 9           |\n",
    "| 10      | A           |\n",
    "| 11      | B           |\n",
    "| 12      | C           |\n",
    "| 13      | D           |\n",
    "| 14      | E           |\n",
    "| 15      | F           |\n",
    "\n",
    "\n",
    "\n",
    "\n",
    "\n",
    "## 5. AMEX Competition `customer_ID` convert to `int32` or `int64`\n",
    "\n",
    "The `customer_ID` is a variable that store customer ids in a string format of length 64. This implies that each custormer id consist of 64 characters, which is equivalent to 64 bytes (1 byte each character) each string.\n",
    "\n",
    "If you convert these strings to a more compact numerical representation (such as an integer), you can significantly reduce the memory usage. \n",
    "\n",
    "We know that `int32` (32-bit integer) uses 4 bytes of memory (1 byte = 8 bits, 4 bytes = 32 bits) and `int64` (64-bit integer) uses 8 bytes of memory (1 byte = 8 bits, 8 bytes = 64 bits). \n",
    "\n",
    "So converting the `customer_ID` to `int32` or `int64`  will reduce the memory usage per row to 4 bytes or 8 bytes respectively. This can be a significant reduction in memory usage, especially in this competiton where the data is 50GB. \n",
    "\n",
    "## 6. Abort any preprocessing in the AMEX competition\n",
    "\n",
    "In order to save time and because my computer can not handle the size of the data set. I'm going to abort any preprocessing and I'm going to use the `AMEX data - integer dtypes - parquet format` from @raddar which is 4.94GB.\n",
    "\n",
    "To download [@raddar dataset](https://www.kaggle.com/competitions/amex-default-prediction/discussion/328514):\n",
    "````\n",
    "kaggle datasets download -d raddar/amex-data-integer-dtypes-parquet-format\n",
    "````\n",
    "\n",
    "## 7. Installing mamba\n",
    "\n",
    "[Documentation](https://mamba.readthedocs.io/en/latest/installation/mamba-installation.html)\n",
    "\n",
    "After messing around with `.bashrc` and having issues with the PATH of all my programs, I decided to install `mamba` \n",
    "\n",
    "1. Install `mamba`:\n",
    "````\n",
    "wget \"https://github.com/conda-forge/miniforge/releases/latest/download/Miniforge3-$(uname)-$(uname -m).sh\"\n",
    "bash Miniforge3-$(uname)-$(uname -m).sh\n",
    "````\n",
    "\n",
    "2. Install `Jupyter`:\n",
    "````\n",
    "mamba install -c conda-forge jupyterlab\n",
    "````\n",
    "3. Create alias for Jupyter Lab with no-browser:\n",
    "````\n",
    "nano ~/.bashrc\n",
    "alias jlab='jupyter lab'\n",
    "````\n",
    "Save and close the file. If you’re using nano, you can do this by pressing `Ctrl+O`, Enter, and then `Ctrl+X` to exit.\n",
    "\n",
    "## 8. Installing dask\n",
    "\n",
    "[Documentation](https://docs.dask.org/en/stable/install.html)\n",
    "\n",
    "````\n",
    "mamba install dask -c conda-forge\n",
    "````\n",
    "\n",
    "## 9. Getting the number of rows from your csv file in the terminal\n",
    "\n",
    "This can be done efficiently using a tool like `wc -l`. The `-l` flag tells wc to count the number of lines in the file.\n",
    "\n",
    "````\n",
    "wc -l train_data.csv\n",
    "5531452 train_data.csv\n",
    "````"
   ]
  },
  {
   "cell_type": "markdown",
   "metadata": {},
   "source": [
    "#### 10. Using `random.sample()` to get a random sample\n",
    "\n",
    "The `random.sample()` function can be used to get a random sample of items from a list or other sequence. It takes two arguments: the sequence to sample from and the number of items to sample.\n",
    "\n",
    "````\n",
    "random.sample(population, k)\n",
    "````\n",
    "\n",
    "Where `population` is the sequence to sample from and `k` is the number of items to sample.\n"
   ]
  },
  {
   "cell_type": "code",
   "execution_count": 1,
   "metadata": {},
   "outputs": [
    {
     "name": "stdout",
     "output_type": "stream",
     "text": [
      "[1, 5, 3]\n"
     ]
    }
   ],
   "source": [
    "import random\n",
    "\n",
    "items = [1, 2, 3, 4, 5]\n",
    "sample = random.sample(items, 3)\n",
    "print(sample)"
   ]
  },
  {
   "cell_type": "markdown",
   "metadata": {},
   "source": [
    "#### 11. Difference between sorted() and sort()\n",
    "\n",
    "- `sorted()`: This function returns a new sorted list from the elements of any iterable. It does not modify the original list.\n",
    "- `sort()`: This method sorts the list in place. It modifies the original list and returns `None`."
   ]
  },
  {
   "cell_type": "code",
   "execution_count": 3,
   "metadata": {},
   "outputs": [
    {
     "name": "stdout",
     "output_type": "stream",
     "text": [
      "[1, 2, 3, 4, 5] [1, 5, 4, 2, 3]\n",
      "None [1, 2, 3, 4, 5]\n"
     ]
    }
   ],
   "source": [
    "L = [1, 5, 4, 2, 3]\n",
    "print(sorted(L), L)\n",
    "print(L.sort(), L)\n"
   ]
  },
  {
   "cell_type": "markdown",
   "metadata": {},
   "source": [
    "#### 12. I'm going to preprocess the data in the AMEX competition\n",
    "\n",
    "After a break and say that I'm going to use the data from @raddar, I decided to preprocess the data in the AMEX competition. \n",
    "\n",
    "I've realised that I can read a few numbers of rows in order to see the data and the columns. This will help me to understand the dataset. \n",
    "\n",
    "````\n",
    "data = pd.read_csv('train_data.csv', nrows=35000)\n",
    "````\n",
    "\n",
    "To select the object columns:\n",
    "````\n",
    "data.select_dtypes(include=['object'])\n",
    "````\n",
    "\n",
    "#### 13. `pd.options.display.max_columns` and `pd.options.display.max_rows`\n",
    "\n",
    "These options allow you to control the maximum number of columns and rows displayed when printing a DataFrame. \n",
    "\n",
    "````\n",
    "pd.options.display.max_columns = 50\n",
    "pd.options.display.max_rows = 50\n",
    "````\n",
    "This will display up to 50 columns and 50 rows when printing a DataFrame.\n",
    "\n",
    "[Pandas documentation](https://pandas.pydata.org/docs/user_guide/options.html)"
   ]
  }
 ],
 "metadata": {
  "kernelspec": {
   "display_name": "base",
   "language": "python",
   "name": "python3"
  },
  "language_info": {
   "codemirror_mode": {
    "name": "ipython",
    "version": 3
   },
   "file_extension": ".py",
   "mimetype": "text/x-python",
   "name": "python",
   "nbconvert_exporter": "python",
   "pygments_lexer": "ipython3",
   "version": "3.10.14"
  }
 },
 "nbformat": 4,
 "nbformat_minor": 2
}
