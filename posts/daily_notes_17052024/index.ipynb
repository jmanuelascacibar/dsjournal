{
 "cells": [
  {
   "cell_type": "raw",
   "metadata": {
    "vscode": {
     "languageId": "raw"
    }
   },
   "source": [
    "---\n",
    "title: \"Daily Note - 17-05-2024\"\n",
    "format: \n",
    "  html:\n",
    "    code-fold: false\n",
    "    toc: true\n",
    "    toc-levels: 4\n",
    "    toc-expand: 4\n",
    "jupyter: python3  \n",
    "author: \"JM Ascacibar\"\n",
    "date: \"2024-05-16\"\n",
    "categories: \n",
    "  - git\n",
    "---"
   ]
  },
  {
   "cell_type": "markdown",
   "metadata": {},
   "source": [
    "*Modify `gitignore`*\n",
    "\n",
    "![](designer.jpeg)"
   ]
  },
  {
   "cell_type": "markdown",
   "metadata": {
    "vscode": {
     "languageId": "raw"
    }
   },
   "source": [
    "# Daily Note - 17/05/2024\n",
    "\n",
    "## 1. Modify `gitignore` to prevent uploading Parquet files\n",
    "\n",
    "In order to prevent uploading big Parquet files to the repository, I have added the following line to the `.gitignore` file:\n",
    "\n",
    "```\n",
    "*.parquet\n",
    "```\n",
    "\n",
    "This line tells Git to ignore all files in your repository that have the `.parquet` extension.\n",
    "\n",
    "After you've updated the `.gitignore` file, any new Parquet files that you add to your project won't be tracked by Git. \n",
    "\n",
    "If there were any Parquet files already tracked in the repository before you added them to `.gitignore`, you'll need to remove them from the repository with the following command:\n",
    "\n",
    "```\n",
    "git rm --cached *.parquet\n",
    "git commit -m \"Remove Parquet files from repository\"\n",
    "git push\n",
    "```\n"
   ]
  },
  {
   "cell_type": "markdown",
   "metadata": {},
   "source": []
  }
 ],
 "metadata": {
  "kernelspec": {
   "display_name": "base",
   "language": "python",
   "name": "python3"
  },
  "language_info": {
   "codemirror_mode": {
    "name": "ipython",
    "version": 3
   },
   "file_extension": ".py",
   "mimetype": "text/x-python",
   "name": "python",
   "nbconvert_exporter": "python",
   "pygments_lexer": "ipython3",
   "version": "3.10.14"
  }
 },
 "nbformat": 4,
 "nbformat_minor": 2
}
