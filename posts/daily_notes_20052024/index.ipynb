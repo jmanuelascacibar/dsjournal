{
 "cells": [
  {
   "cell_type": "raw",
   "metadata": {
    "vscode": {
     "languageId": "raw"
    }
   },
   "source": [
    "---\n",
    "title: \"Daily Note - 20-05-2024\"\n",
    "format: \n",
    "  html:\n",
    "    code-fold: false\n",
    "    toc: true\n",
    "    toc-levels: 4\n",
    "    toc-expand: 4\n",
    "jupyter: python3  \n",
    "author: \"JM Ascacibar\"\n",
    "date: \"2024-05-20\"\n",
    "categories: \n",
    "  - bash\n",
    "  - lightgbm\n",
    "  \n",
    "---"
   ]
  },
  {
   "cell_type": "markdown",
   "metadata": {},
   "source": [
    "*Installing Lightgbm GPU version*\n",
    "\n",
    "![](designer.jpeg)"
   ]
  },
  {
   "cell_type": "markdown",
   "metadata": {
    "vscode": {
     "languageId": "raw"
    }
   },
   "source": [
    "# Working plan for the next weeks\n",
    "- [ ] Flood Competition. Modelling the data and making predictions\n",
    "- [ ] AMEX competition\n",
    "- [ ] Concrete competition. Modelling the data and making predictions\n",
    "- [ ] Shapley \n",
    "- [ ] Inference and prediction\n",
    "- [ ] PCA\n",
    "- [ ] Target Transformations\n",
    "- [ ] Richard Dawking explanation of FP and FN\n",
    "\n",
    "# Daily Note - 20/05/2024\n",
    "\n",
    "## 1. Installing Lightgbm GPU version (Linux)\n",
    "\n",
    "The first thing you need to do is to verify that your WSL version support GPU. You can check it by running `nvidia-smi` in the terminal. Second thing is to update your package list `sudo apt-get update`.\n",
    "\n",
    "Next step, we are going to check if OpenCL is installed in your system. You can check it by running `clinfo` in the terminal. If it is not installed, you can install it by running `sudo apt-get install clinfo`. Once you have installed OpenCL, we need to install OpenCL headers and libraries. You can do it by running `sudo apt-get install ocl-icd-opencl-dev`.\n",
    "\n",
    "Now, we are going to check for Boost installation. You can check it by running `dpkg -s libboost-dev | grep 'Version'`. If it is not installed, you can install it by running `sudo apt install libboost-dev libboost-system-dev libboost-filesystem-dev`.\n",
    "\n",
    "Next, we need to install CMake and GCC or Clang. You can install CMake by running `sudo apt install cmake`. For GCC, you can install it by running `sudo apt install gcc`. For Clang, you can install it by running `sudo apt install clang`.\n",
    "\n",
    "Now, we are ready to clone Lightgbm repository and build with GPU support.\n",
    "\n",
    "```bash\n",
    "git clone --recursive https://github.com/microsoft/LightGBM\n",
    "cd LightGBM\n",
    "mkdir build\n",
    "cd build\n",
    "```\t\n",
    "\n",
    "After that, we need to configure the build for GPU. You can do it by running `cmake -DUSE_GPU=1 ..`. Once the configuration is done, you can build Lightgbm by running `make -j4`.\n",
    "\n",
    "## 2. Installing a new version of CMake\n",
    "\n",
    "The first thing you need to do is to download the latest version of CMake from the official website.\n",
    "\n",
    "```bash\n",
    "wget https://github.com/Kitware/CMake/releases/download/v3.23.1/cmake-3.23.1.tar.gz\n",
    "```\n",
    "Extract the source code\n",
    "\n",
    "```bash\n",
    "tar -xzvf cmake-3.23.1.tar.gz\n",
    "cd cmake-3.23.1\n",
    "```\n",
    "\n",
    "Compile CMake\n",
    "\n",
    "```bash\n",
    "./bootstrap && make\n",
    "```\t\n",
    "\n",
    "I have an error because I didn't have OpenSSL Development package installed. You can install it by running `sudo apt-get install libssl-dev`. After that, you can run `./bootstrap && make` again.make\n",
    "\n",
    "\n",
    "Install CMake\n",
    "\n",
    "```bash\n",
    "sudo make install\n",
    "```\n",
    "\n",
    "Verify the installation\n",
    "\n",
    "```bash\n",
    "cmake --version\n",
    "```\n",
    "\n",
    "\n",
    "\n",
    "\n",
    "\n",
    "\n"
   ]
  }
 ],
 "metadata": {
  "kernelspec": {
   "display_name": "base",
   "language": "python",
   "name": "python3"
  },
  "language_info": {
   "codemirror_mode": {
    "name": "ipython",
    "version": 3
   },
   "file_extension": ".py",
   "mimetype": "text/x-python",
   "name": "python",
   "nbconvert_exporter": "python",
   "pygments_lexer": "ipython3",
   "version": "3.10.14"
  }
 },
 "nbformat": 4,
 "nbformat_minor": 2
}
