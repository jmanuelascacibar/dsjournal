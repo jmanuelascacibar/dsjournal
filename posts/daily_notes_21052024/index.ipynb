{
 "cells": [
  {
   "cell_type": "raw",
   "metadata": {
    "vscode": {
     "languageId": "raw"
    }
   },
   "source": [
    "---\n",
    "title: \"Daily Note - 21-05-2024\"\n",
    "format: \n",
    "  html:\n",
    "    code-fold: false\n",
    "    toc: true\n",
    "    toc-levels: 4\n",
    "    toc-expand: 4\n",
    "jupyter: python3  \n",
    "author: \"JM Ascacibar\"\n",
    "date: \"2024-05-21\"\n",
    "categories: \n",
    "  - quarto\n",
    "  - pandas\n",
    "  - enconding\n",
    "  - transformations\n",
    "  \n",
    "---"
   ]
  },
  {
   "cell_type": "markdown",
   "metadata": {},
   "source": [
    "*Quarto draft document, one-hot encoding or label encoding, transforming the target variable*\n",
    "\n",
    "![](designer.jpeg)"
   ]
  },
  {
   "cell_type": "markdown",
   "metadata": {
    "vscode": {
     "languageId": "raw"
    }
   },
   "source": [
    "# Daily Note - 21/05/2024\n",
    "\n",
    "## 1. Mark the document as a draft in Quarto\n",
    "\n",
    " You can control whether a document is published by setting its draft status. When a document is marked as a draft, it won't be included in the published output.\n",
    "\n",
    " Add the following YAML metadata at the beginning of the document:\n",
    "```yaml\n",
    "---\n",
    "draft: true\n",
    "---\n",
    "```\t\n",
    "\n",
    "## 2. The choice between one-hot encoding and label encoding\n",
    "\n",
    "If the categories are nominal (no natural order), one-hot encoding is usually preferred. This ensures that the model does not infer any ordinal relationship between the categories. Also, One-hot encoding is more feasible when the categorical variable has a relatively small number of unique categories.\n",
    "\n",
    "If the categories have a meaningful order (e.g., low, medium, high), label encoding can capture this ordinal relationship. The numerical labels assigned by label encoding can reflect this order.\n",
    "\n",
    "Caveats:\n",
    "\n",
    "Some algorithms, like tree-based models, can handle label encoding even if the categories are not ordinal because these models are not sensitive to the numerical order of labels. However, for linear models or distance-based algorithms (e.g., k-nearest neighbors, SVMs), label encoding can introduce misleading relationships between categories\n",
    "\n",
    "## 3. Whether or not to transform a target variable\n",
    "\n",
    "![image.png](image.png)\n",
    "\n",
    "First assess the distribution of the data and understand why a transformation might be beneficial.\n",
    "\n",
    "Many statistical models assume that the residuals (errors) of the model are normally distributed. If your target variable is highly skewed, as the salary distribution, a transformation might help to achieve normality.\n",
    "\n",
    "Homoscedasticity refers to the assumption that the variance of the residuals is constant across all levels of the independent variables. A skewed predictor or target variable can lead to heteroscedasticity, which can violate this assumption. Transforming the target variable can help stabilize the variance.\n",
    "\n",
    "A skewed distribution often indicates the presence of outliers, which can disproportionately influence the model. Transforming the data can reduce the impact of these outliers."
   ]
  }
 ],
 "metadata": {
  "kernelspec": {
   "display_name": "base",
   "language": "python",
   "name": "python3"
  },
  "language_info": {
   "codemirror_mode": {
    "name": "ipython",
    "version": 3
   },
   "file_extension": ".py",
   "mimetype": "text/x-python",
   "name": "python",
   "nbconvert_exporter": "python",
   "pygments_lexer": "ipython3",
   "version": "3.10.14"
  }
 },
 "nbformat": 4,
 "nbformat_minor": 2
}
