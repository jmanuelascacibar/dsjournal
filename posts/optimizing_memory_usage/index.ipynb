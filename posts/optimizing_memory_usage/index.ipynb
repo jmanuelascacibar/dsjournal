{
 "cells": [
  {
   "cell_type": "raw",
   "metadata": {
    "vscode": {
     "languageId": "raw"
    }
   },
   "source": [
    "---\n",
    "title: \"Optimizing Memory Usage with Insurance Cross-Sell Prediction\"\n",
    "format: \n",
    "  html:\n",
    "    code-fold: false\n",
    "    toc: true\n",
    "    toc-levels: 4\n",
    "    toc-expand: 4\n",
    "jupyter: python3  \n",
    "author: \"JM Ascacibar\"\n",
    "date: \"2024-07-01\"\n",
    "categories: \n",
    "  - Kaggle\n",
    "  - data types\n",
    "---\n"
   ]
  },
  {
   "cell_type": "markdown",
   "metadata": {},
   "source": [
    "*Optimizing memory usage, Playground Series - Season 4, Episode 7*\n",
    "\n",
    "![](intro.webp)"
   ]
  },
  {
   "cell_type": "markdown",
   "metadata": {},
   "source": [
    "# Optimizing Memory Usage with Insurance Cross-Sell Prediction"
   ]
  },
  {
   "cell_type": "markdown",
   "metadata": {},
   "source": [
    "## Introduction \n",
    "This notebook goal is to demonstrate techniques for efficient handling large datasets, focusing on memory optimization without losing information. We use a health insurance cross-sell prediction dataset, that is a synthetic dataset create for the Kaggle Playground Competition of July 2024. \n",
    "\n",
    "The main objectives are:\n",
    "\n",
    "* Change data types in a pandas DataFrame to reduce memory usage.\n",
    "* Converting CSV files to the more efficient Parquet format."
   ]
  },
  {
   "cell_type": "markdown",
   "metadata": {},
   "source": [
    "## Setup and Data Loading\n",
    "\n",
    "We start by importing necessary libraries and setting up our environment:"
   ]
  },
  {
   "cell_type": "code",
   "execution_count": 1,
   "metadata": {},
   "outputs": [],
   "source": [
    "import pandas as pd\n",
    "import numpy as np \n",
    "import os\n",
    "from pathlib import Path\n",
    "\n",
    "pd.options.display.max_columns = 300\n",
    "pd.options.display.max_info_columns = 300"
   ]
  },
  {
   "cell_type": "markdown",
   "metadata": {},
   "source": [
    "Define paths for our datasets, accommodating both Kaggle and local environments:"
   ]
  },
  {
   "cell_type": "code",
   "execution_count": 2,
   "metadata": {},
   "outputs": [
    {
     "name": "stdout",
     "output_type": "stream",
     "text": [
      "Running locally\n",
      "train.csv\n",
      "test.csv\n",
      "train_original.csv\n",
      "test_original.csv\n"
     ]
    }
   ],
   "source": [
    "if 'KAGGLE_KERNEL_RUN_TYPE' in os.environ:\n",
    "    print('Running on Kaggle') \n",
    "    # Path for the synthetic dataset\n",
    "    path = Path('/kaggle/input/playground-series-s4e7/')\n",
    "    # Add input first for the original dataset\n",
    "    path_o = Path('/kaggle/input/health-insurance-cross-sell-prediction-data/')\n",
    "    train_o_path = path_o/'train.csv'\n",
    "    test_o_path = path_o/ 'test.csv'\n",
    "else: \n",
    "    print('Running locally')\n",
    "    path = Path('.')\n",
    "    path_o = Path('.')\n",
    "    train_o_path = path_o/'train_original.csv'\n",
    "    test_o_path = path_o/ 'test_original.csv'\n",
    "\n",
    "# Path for train, test\n",
    "train_path = path/'train.csv'\n",
    "test_path = path/'test.csv'\n",
    "\n",
    "# Print the paths for verification\n",
    "print(train_path)\n",
    "print(test_path)\n",
    "print(train_o_path)\n",
    "print(test_o_path)"
   ]
  },
  {
   "cell_type": "markdown",
   "metadata": {},
   "source": [
    "## Initial Data Exploration\n",
    "\n",
    "We load our datasets and examine their characteristics:"
   ]
  },
  {
   "cell_type": "code",
   "execution_count": 3,
   "metadata": {},
   "outputs": [],
   "source": [
    "# Synthetic dataset\n",
    "train = pd.read_csv(train_path, index_col=0)\n",
    "test = pd.read_csv(test_path, index_col=0)\n",
    "# Original dataset\n",
    "train_o = pd.read_csv(train_o_path, index_col=0)\n",
    "test_o = pd.read_csv(test_o_path, index_col=0)\n"
   ]
  },
  {
   "cell_type": "code",
   "execution_count": 4,
   "metadata": {},
   "outputs": [
    {
     "name": "stdout",
     "output_type": "stream",
     "text": [
      "<class 'pandas.core.frame.DataFrame'>\n",
      "Index: 11504798 entries, 0 to 11504797\n",
      "Data columns (total 11 columns):\n",
      " #   Column                Dtype  \n",
      "---  ------                -----  \n",
      " 0   Gender                object \n",
      " 1   Age                   int64  \n",
      " 2   Driving_License       int64  \n",
      " 3   Region_Code           float64\n",
      " 4   Previously_Insured    int64  \n",
      " 5   Vehicle_Age           object \n",
      " 6   Vehicle_Damage        object \n",
      " 7   Annual_Premium        float64\n",
      " 8   Policy_Sales_Channel  float64\n",
      " 9   Vintage               int64  \n",
      " 10  Response              int64  \n",
      "dtypes: float64(3), int64(5), object(3)\n",
      "memory usage: 2.8 GB\n"
     ]
    }
   ],
   "source": [
    "train.info(memory_usage='deep')"
   ]
  },
  {
   "cell_type": "code",
   "execution_count": 5,
   "metadata": {},
   "outputs": [
    {
     "name": "stdout",
     "output_type": "stream",
     "text": [
      "<class 'pandas.core.frame.DataFrame'>\n",
      "Index: 7669866 entries, 11504798 to 19174663\n",
      "Data columns (total 10 columns):\n",
      " #   Column                Dtype  \n",
      "---  ------                -----  \n",
      " 0   Gender                object \n",
      " 1   Age                   int64  \n",
      " 2   Driving_License       int64  \n",
      " 3   Region_Code           float64\n",
      " 4   Previously_Insured    int64  \n",
      " 5   Vehicle_Age           object \n",
      " 6   Vehicle_Damage        object \n",
      " 7   Annual_Premium        float64\n",
      " 8   Policy_Sales_Channel  float64\n",
      " 9   Vintage               int64  \n",
      "dtypes: float64(3), int64(4), object(3)\n",
      "memory usage: 1.8 GB\n"
     ]
    }
   ],
   "source": [
    "test.info(memory_usage='deep')"
   ]
  },
  {
   "cell_type": "markdown",
   "metadata": {},
   "source": [
    "The training set has 11,504,797 entries with 10 columns.\n",
    "\n",
    "The initial memory usage is substantial: 2.8 GB for the training set and 1.8 GB for the test set."
   ]
  },
  {
   "cell_type": "markdown",
   "metadata": {},
   "source": [
    "## Memory Optimization Strategy\n",
    "\n",
    "We implement a function to convert data types to more memory-efficient alternatives. We are going to follow the following list about datatypes with Pandas in order to avoid data loss:\n",
    "\n",
    "* int8: Ranges from -128 to 127.\n",
    "* int16: Ranges from -32,768 to 32,767.\n",
    "* int32: Ranges from -2,147,483,648 to 2,147,483,647.\n",
    "* int64: Ranges from -9,223,372,036,854,775,808 to 9,223,372,036,854,775,807.\n",
    "* float16 (Half-precision): Approximate decimal precision of 3 to 4 decimal digits.\n",
    "* float32 (Single-precision): Approximate decimal precision of 7 to 9 decimal digits.\n",
    "* float64 (Double-precision): Approximate decimal precision of 15 to 17 decimal digits."
   ]
  },
  {
   "cell_type": "code",
   "execution_count": 6,
   "metadata": {},
   "outputs": [
    {
     "data": {
      "text/html": [
       "<div>\n",
       "<style scoped>\n",
       "    .dataframe tbody tr th:only-of-type {\n",
       "        vertical-align: middle;\n",
       "    }\n",
       "\n",
       "    .dataframe tbody tr th {\n",
       "        vertical-align: top;\n",
       "    }\n",
       "\n",
       "    .dataframe thead th {\n",
       "        text-align: right;\n",
       "    }\n",
       "</style>\n",
       "<table border=\"1\" class=\"dataframe\">\n",
       "  <thead>\n",
       "    <tr style=\"text-align: right;\">\n",
       "      <th></th>\n",
       "      <th>count</th>\n",
       "      <th>mean</th>\n",
       "      <th>std</th>\n",
       "      <th>min</th>\n",
       "      <th>25%</th>\n",
       "      <th>50%</th>\n",
       "      <th>75%</th>\n",
       "      <th>max</th>\n",
       "    </tr>\n",
       "  </thead>\n",
       "  <tbody>\n",
       "    <tr>\n",
       "      <th>Age</th>\n",
       "      <td>11504798.0</td>\n",
       "      <td>38.383563</td>\n",
       "      <td>14.993459</td>\n",
       "      <td>20.0</td>\n",
       "      <td>24.0</td>\n",
       "      <td>36.0</td>\n",
       "      <td>49.0</td>\n",
       "      <td>85.0</td>\n",
       "    </tr>\n",
       "    <tr>\n",
       "      <th>Driving_License</th>\n",
       "      <td>11504798.0</td>\n",
       "      <td>0.998022</td>\n",
       "      <td>0.044431</td>\n",
       "      <td>0.0</td>\n",
       "      <td>1.0</td>\n",
       "      <td>1.0</td>\n",
       "      <td>1.0</td>\n",
       "      <td>1.0</td>\n",
       "    </tr>\n",
       "    <tr>\n",
       "      <th>Region_Code</th>\n",
       "      <td>11504798.0</td>\n",
       "      <td>26.418690</td>\n",
       "      <td>12.991590</td>\n",
       "      <td>0.0</td>\n",
       "      <td>15.0</td>\n",
       "      <td>28.0</td>\n",
       "      <td>35.0</td>\n",
       "      <td>52.0</td>\n",
       "    </tr>\n",
       "    <tr>\n",
       "      <th>Previously_Insured</th>\n",
       "      <td>11504798.0</td>\n",
       "      <td>0.462997</td>\n",
       "      <td>0.498629</td>\n",
       "      <td>0.0</td>\n",
       "      <td>0.0</td>\n",
       "      <td>0.0</td>\n",
       "      <td>1.0</td>\n",
       "      <td>1.0</td>\n",
       "    </tr>\n",
       "    <tr>\n",
       "      <th>Annual_Premium</th>\n",
       "      <td>11504798.0</td>\n",
       "      <td>30461.370411</td>\n",
       "      <td>16454.745205</td>\n",
       "      <td>2630.0</td>\n",
       "      <td>25277.0</td>\n",
       "      <td>31824.0</td>\n",
       "      <td>39451.0</td>\n",
       "      <td>540165.0</td>\n",
       "    </tr>\n",
       "    <tr>\n",
       "      <th>Policy_Sales_Channel</th>\n",
       "      <td>11504798.0</td>\n",
       "      <td>112.425442</td>\n",
       "      <td>54.035708</td>\n",
       "      <td>1.0</td>\n",
       "      <td>29.0</td>\n",
       "      <td>151.0</td>\n",
       "      <td>152.0</td>\n",
       "      <td>163.0</td>\n",
       "    </tr>\n",
       "    <tr>\n",
       "      <th>Vintage</th>\n",
       "      <td>11504798.0</td>\n",
       "      <td>163.897744</td>\n",
       "      <td>79.979531</td>\n",
       "      <td>10.0</td>\n",
       "      <td>99.0</td>\n",
       "      <td>166.0</td>\n",
       "      <td>232.0</td>\n",
       "      <td>299.0</td>\n",
       "    </tr>\n",
       "    <tr>\n",
       "      <th>Response</th>\n",
       "      <td>11504798.0</td>\n",
       "      <td>0.122997</td>\n",
       "      <td>0.328434</td>\n",
       "      <td>0.0</td>\n",
       "      <td>0.0</td>\n",
       "      <td>0.0</td>\n",
       "      <td>0.0</td>\n",
       "      <td>1.0</td>\n",
       "    </tr>\n",
       "  </tbody>\n",
       "</table>\n",
       "</div>"
      ],
      "text/plain": [
       "                           count          mean           std     min      25%  \\\n",
       "Age                   11504798.0     38.383563     14.993459    20.0     24.0   \n",
       "Driving_License       11504798.0      0.998022      0.044431     0.0      1.0   \n",
       "Region_Code           11504798.0     26.418690     12.991590     0.0     15.0   \n",
       "Previously_Insured    11504798.0      0.462997      0.498629     0.0      0.0   \n",
       "Annual_Premium        11504798.0  30461.370411  16454.745205  2630.0  25277.0   \n",
       "Policy_Sales_Channel  11504798.0    112.425442     54.035708     1.0     29.0   \n",
       "Vintage               11504798.0    163.897744     79.979531    10.0     99.0   \n",
       "Response              11504798.0      0.122997      0.328434     0.0      0.0   \n",
       "\n",
       "                          50%      75%       max  \n",
       "Age                      36.0     49.0      85.0  \n",
       "Driving_License           1.0      1.0       1.0  \n",
       "Region_Code              28.0     35.0      52.0  \n",
       "Previously_Insured        0.0      1.0       1.0  \n",
       "Annual_Premium        31824.0  39451.0  540165.0  \n",
       "Policy_Sales_Channel    151.0    152.0     163.0  \n",
       "Vintage                 166.0    232.0     299.0  \n",
       "Response                  0.0      0.0       1.0  "
      ]
     },
     "execution_count": 6,
     "metadata": {},
     "output_type": "execute_result"
    }
   ],
   "source": [
    "train.describe().T"
   ]
  },
  {
   "cell_type": "code",
   "execution_count": 7,
   "metadata": {},
   "outputs": [],
   "source": [
    "def converting_datatypes(df):\n",
    "    df = df.copy()\n",
    "    try:\n",
    "        # Converting data types\n",
    "        df['Gender'] = df['Gender'].astype('category')\n",
    "        df['Vehicle_Age'] = df['Vehicle_Age'].astype('category')\n",
    "        df['Vehicle_Damage'] = df['Vehicle_Damage'].astype('category')\n",
    "        df['Age'] = df['Age'].astype('int8')\n",
    "        df['Driving_License'] = df['Driving_License'].astype('int8')\n",
    "        df['Region_Code'] = df['Region_Code'].astype('int8')\n",
    "        df['Previously_Insured'] = df['Previously_Insured'].astype('int8')\n",
    "        df['Annual_Premium'] = df['Annual_Premium'].astype('int32')\n",
    "        df['Policy_Sales_Channel'] = df['Policy_Sales_Channel'].astype('int16')\n",
    "        df['Vintage'] = df['Vintage'].astype('int16')\n",
    "        df['Response'] = df['Response'].astype('int8')\n",
    "        print(df.info(memory_usage='deep'))\n",
    "    except KeyError as e:\n",
    "        print(f\"Error: {e} not found in DataFrame\")\n",
    "    except Exception as e:\n",
    "        print(f\"An error occurred: {e}\")\n",
    "    return df"
   ]
  },
  {
   "cell_type": "markdown",
   "metadata": {},
   "source": [
    "We apply this function to our datasets:"
   ]
  },
  {
   "cell_type": "code",
   "execution_count": 8,
   "metadata": {},
   "outputs": [
    {
     "name": "stdout",
     "output_type": "stream",
     "text": [
      "<class 'pandas.core.frame.DataFrame'>\n",
      "Index: 11504798 entries, 0 to 11504797\n",
      "Data columns (total 11 columns):\n",
      " #   Column                Dtype   \n",
      "---  ------                -----   \n",
      " 0   Gender                category\n",
      " 1   Age                   int8    \n",
      " 2   Driving_License       int8    \n",
      " 3   Region_Code           int8    \n",
      " 4   Previously_Insured    int8    \n",
      " 5   Vehicle_Age           category\n",
      " 6   Vehicle_Damage        category\n",
      " 7   Annual_Premium        int32   \n",
      " 8   Policy_Sales_Channel  int16   \n",
      " 9   Vintage               int16   \n",
      " 10  Response              int8    \n",
      "dtypes: category(3), int16(2), int32(1), int8(5)\n",
      "memory usage: 263.3 MB\n",
      "None\n",
      "Error: 'Response' not found in DataFrame\n",
      "<class 'pandas.core.frame.DataFrame'>\n",
      "Index: 381109 entries, 1 to 381109\n",
      "Data columns (total 11 columns):\n",
      " #   Column                Non-Null Count   Dtype   \n",
      "---  ------                --------------   -----   \n",
      " 0   Gender                381109 non-null  category\n",
      " 1   Age                   381109 non-null  int8    \n",
      " 2   Driving_License       381109 non-null  int8    \n",
      " 3   Region_Code           381109 non-null  int8    \n",
      " 4   Previously_Insured    381109 non-null  int8    \n",
      " 5   Vehicle_Age           381109 non-null  category\n",
      " 6   Vehicle_Damage        381109 non-null  category\n",
      " 7   Annual_Premium        381109 non-null  int32   \n",
      " 8   Policy_Sales_Channel  381109 non-null  int16   \n",
      " 9   Vintage               381109 non-null  int16   \n",
      " 10  Response              381109 non-null  int8    \n",
      "dtypes: category(3), int16(2), int32(1), int8(5)\n",
      "memory usage: 8.7 MB\n",
      "None\n",
      "Error: 'Response' not found in DataFrame\n"
     ]
    }
   ],
   "source": [
    "train = converting_datatypes(train)\n",
    "test = converting_datatypes(test)\n",
    "train_o = converting_datatypes(train_o)\n",
    "test_o = converting_datatypes(test_o)"
   ]
  },
  {
   "cell_type": "markdown",
   "metadata": {},
   "source": [
    "## Results of Memory Optimization\n",
    "\n",
    "After applying our optimization strategy:\n",
    "\n",
    "1. The training set's memory usage reduced from 1.029 GB to 263.3 MB.\n",
    "2. The test set's memory usage reduced from 0.6286 GB to 168.2 MB.\n",
    "\n",
    "This represents a significant reduction in memory usage, making the datasets more manageable for analysis and modeling besides the amount of data we are working with."
   ]
  },
  {
   "cell_type": "markdown",
   "metadata": {},
   "source": [
    "## Saving Optimized Data\n",
    "\n",
    "To preserve our memory-efficient datasets and enable faster loading in future, we save them in Parquet format:"
   ]
  },
  {
   "cell_type": "code",
   "execution_count": 9,
   "metadata": {},
   "outputs": [],
   "source": [
    "# Save files as parquet for faster loading\n",
    "train.to_parquet('train.parquet')\n",
    "test.to_parquet('test.parquet')\n",
    "train_o.to_parquet('train_original.parquet')\n",
    "test_o.to_parquet('test_original.parquet')"
   ]
  },
  {
   "cell_type": "markdown",
   "metadata": {},
   "source": [
    "## Conclusion\n",
    "\n",
    "We significantly reduced memory usage by optimizing data types, making large datasets more manageable.\n",
    "We also converted CSV files to Parquet format, which preserves data types and allows for faster data loading in future analyses.\n",
    "\n",
    "These techniques are crucial when working with big data, as they allow for more efficient data processing and analysis, especially in environments with limited computational resources."
   ]
  }
 ],
 "metadata": {
  "kernelspec": {
   "display_name": "ds",
   "language": "python",
   "name": "python3"
  },
  "language_info": {
   "codemirror_mode": {
    "name": "ipython",
    "version": 3
   },
   "file_extension": ".py",
   "mimetype": "text/x-python",
   "name": "python",
   "nbconvert_exporter": "python",
   "pygments_lexer": "ipython3",
   "version": "3.11.9"
  }
 },
 "nbformat": 4,
 "nbformat_minor": 2
}
