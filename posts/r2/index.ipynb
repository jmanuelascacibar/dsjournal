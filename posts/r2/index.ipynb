{
 "cells": [
  {
   "cell_type": "raw",
   "metadata": {
    "vscode": {
     "languageId": "raw"
    }
   },
   "source": [
    "\n",
    "---\n",
    "title: \"Coefficient of determination - r2\"\n",
    "format: \n",
    "  html:\n",
    "    code-fold: false\n",
    "    toc: true\n",
    "    toc-levels: 4\n",
    "    toc-expand: 4\n",
    "jupyter: python3  \n",
    "author: \"JM Ascacibar\"\n",
    "date: \"2024-05-14\"\n",
    "categories: \n",
    "  - Statistics\n",
    "---\n"
   ]
  },
  {
   "cell_type": "markdown",
   "metadata": {},
   "source": [
    "**Understanding R2**\n",
    "\n",
    "![](coefdetermai.jpeg)"
   ]
  },
  {
   "cell_type": "markdown",
   "metadata": {},
   "source": [
    "### Introduction\n",
    "\n",
    "\n",
    "I'm working working in a playground kaggle competition called [Regression with a Flood Prediction Dataset](https://www.kaggle.com/competitions/playground-series-s4e5). The goal of the competition is to predict the probability of a flood event in a given region based on a set of features. The submission are evaluated using $R^2$ score. \n",
    "\n",
    "A good way to start is to understand the evaluation metric that, in this case, we are going to try to maximize. So what is $R^2$ score?\n",
    "\n",
    "You might have heard from school that $R^2$ measure the proportion of the variance in the dependent variable that is predictable from the independent variable. But what does that mean?\n",
    "\n",
    "### Evaluation metric\n",
    "\n",
    "\n",
    "An evaluation metric is a way to measure how good your model is. This arise the question: what is a good model? A good model is a model that is able to generalize well. That is, a model that is able to make good predictions on unseen data. A good prediction is a prediction that is close to the true value. In statistics, we define residuals as the difference between the true value and the predicted value from the model. \n",
    "\n",
    "### Residuals\n",
    "\n",
    "\n",
    "$$y = [y_1, ..., y_n]$$\n",
    "$$ r = [r_1, ..., r_2] = [y_1 - \\hat{y}_1, ..., y_n - \\hat{y}_n]$$\n",
    "Where $y$ is the true value, $\\hat{y}$ is the predicted value and $r$ is the residual.\n",
    "\n",
    "The sum of the residuals will be zero and there's a mathematical proof (at the end).\n",
    "\n",
    "In linear regression, we're trying to find the best-fitting line that minimizes the distance between the observed data points and the line. The best-fitting line is the one that minimizes the sum of the squared residuals.\n",
    "\n",
    "The residuals are the differences between the observed values (y) and the predicted values (ŷ) based on the regression line. The mean of the observed values is $\\bar{y} = \\frac{1}{n}\\sum y_i$. \n"
   ]
  },
  {
   "cell_type": "raw",
   "metadata": {
    "vscode": {
     "languageId": "raw"
    }
   },
   "source": [
    "---\n",
    "title: Plot from Wikipedia\n",
    "lightbox: auto\n",
    "---\n",
    "![Wikipedia](r2.png)\n"
   ]
  },
  {
   "cell_type": "markdown",
   "metadata": {},
   "source": [
    "### RSS and SST\n",
    "---\n",
    "\n",
    "Once we have the mean, we can calculate the variability of the observed values. We can calculate with two sum of squares. The total sum of squares (SST) is the sum of the squared differences between the observed values and the mean of the observed values, $SST=\\sum_i{(y_i-\\bar{y})^2} $ (red squares in the plot). So the total sum of squares is proportional to the variance of the observed values.\n",
    "\n",
    "The residual sum of squares (RSS) is the sum of the squared differences between the observed values and the predicted values, $SSR = \\sum{(y_i - f_i)^2} = \\sum_i{e_i^2}$  (blue squares in the plot).\n",
    "\n",
    "SSR/SST is the fraction of variance unexplained. The fraction of variance explained is $R^2 = 1 - SSR/SST$.\n",
    "\n",
    "The best model posible will be one with SSR = 0 and the R2 score will be 1. So R2 score measure goodness of fit. \n",
    "\n",
    "Values outside the range [0,1] are possible when the model is worse than the mean model, the SSR is greater than the SST, and the R2 score is negative.\n",
    "\n",
    "\n",
    "### Adjusted R2\n",
    "\n",
    "\n",
    "The R2 score has a problem. It increases as we add more features to the model. This is because the model will always explain more variance with more features. The adjusted R2 score is a modified version of the R2 score that has been adjusted for the number of features in the model. The adjusted R2 score is calculated as:\n",
    "\n",
    "$$R^2_{adj} = 1 - \\frac{(1 - R^2)(n - 1)}{n - k - 1}$$\n",
    "\n",
    "where n is the number of observations and k is the number of features in the model. The adjusted R2 score will be less than the R2 score when the number of features is greater than 1.\n",
    "\n",
    "Or from the definition of R2 we can write the adjusted R2 as:\n",
    "\n",
    "$$R^2_{adj} = 1 - \\frac{SSR/(n-k-1)}{SST/(n-1)}$$ \n",
    "\n",
    "where n is the number of observations and k is the number of features in the model. \n",
    "We basically divide the SSR and SST by the degrees of freedom, define as the number of observations minus the number of parameters in the model.\n",
    "\n",
    "\n",
    "### Proof that the sum of the residuals is zero\n",
    "\n",
    "\n",
    "The OLS method estimates the regression coefficients (β) by minimizing the sum of the squared residuals (SSR). The SSR is calculated as:\n",
    "$$SSR = \\sum (y - \\hat{y})^2$$\n",
    "where y is the observed value, ŷ is the predicted value, and the sum is taken over all data points.\n",
    "\n",
    "When we minimize the SSR, we're essentially finding the regression line that passes through the mean of the data points. Imagine a regression line that doesn't pass through the mean of the data points. In this case, the residuals would not sum to zero, as the line would be biased upwards or downwards. By minimizing the SSR, we're forcing the regression line to pass through the mean of the data points, which means that the sum of the residuals must be zero.\n",
    "\n",
    "Proof:\n",
    "\n",
    "Let's denote $e = y- \\hat{y}$, we want to show that $\\sum e = 0$. \n",
    "\n",
    "We know that $\\hat{y} = \\beta_0 + \\beta_1x$ \n",
    "\n",
    "Using the definition of $\\hat{y}$, $e = y - \\beta_0 - \\beta_1x$.\n",
    "\n",
    "Taking the sum of both sides we have:\n",
    "$$\\sum e = \\sum y - \\sum \\left(\\beta_0 - \\beta_1x\\right)$$ \n",
    "$$\\sum e = \\sum y - n\\beta_0 - \\beta_1\\sum x$$\n",
    "where n is the number of observations.\n",
    "\n",
    "Recall that the OLS estimates of β0 and β1 are chosen to minimize the SSR. This means that the following conditions must be satisfied.\n",
    "\n",
    "$$\\frac{\\partial SSR}{\\partial \\beta_0} = -2\\sum (y - (\\beta_0 + \\beta_1 x)) = 0$$\n",
    "$$\\frac{\\partial SSR}{\\partial \\beta_1} = -2\\sum x(y - (\\beta_0 + \\beta_1 x)) = 0$$\n",
    "\n",
    "Simplyfing the first and second equation we have:\n",
    "$$\\sum y = n\\beta_0 + \\beta_1\\sum x$$\n",
    "$$\\sum xy = \\beta_0\\sum x + \\beta_1\\sum x^2$$\n",
    "\n",
    "Substituting the first equation into the expresion $\\sum e = \\sum y - \\sum \\left(\\beta_0 - \\beta_1x\\right)$  we have:\n",
    "$$\\sum e = 0$$\n",
    "\n",
    "### References\n",
    "\n",
    "- [Wikipedia](https://en.wikipedia.org/wiki/Coefficient_of_determination)\n",
    "- [Kaggle Flood Prediction](https://www.kaggle.com/competitions/playground-series-s4e5)\n",
    "\n",
    "\n",
    "\n"
   ]
  },
  {
   "cell_type": "markdown",
   "metadata": {},
   "source": []
  }
 ],
 "metadata": {
  "kernelspec": {
   "display_name": "base",
   "language": "python",
   "name": "python3"
  },
  "language_info": {
   "codemirror_mode": {
    "name": "ipython",
    "version": 3
   },
   "file_extension": ".py",
   "mimetype": "text/x-python",
   "name": "python",
   "nbconvert_exporter": "python",
   "pygments_lexer": "ipython3",
   "version": "3.10.14"
  }
 },
 "nbformat": 4,
 "nbformat_minor": 2
}
